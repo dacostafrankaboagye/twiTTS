{
  "nbformat": 4,
  "nbformat_minor": 0,
  "metadata": {
    "colab": {
      "provenance": [],
      "gpuType": "T4",
      "authorship_tag": "ABX9TyObgkP9beZdpWeOTlN31peT",
      "include_colab_link": true
    },
    "kernelspec": {
      "name": "python3",
      "display_name": "Python 3"
    },
    "language_info": {
      "name": "python"
    },
    "gpuClass": "standard",
    "accelerator": "GPU"
  },
  "cells": [
    {
      "cell_type": "markdown",
      "metadata": {
        "id": "view-in-github",
        "colab_type": "text"
      },
      "source": [
        "<a href=\"https://colab.research.google.com/github/dacostafrankaboagye/twiTTS/blob/main/TrainingTwiTTS.ipynb\" target=\"_parent\"><img src=\"https://colab.research.google.com/assets/colab-badge.svg\" alt=\"Open In Colab\"/></a>"
      ]
    },
    {
      "cell_type": "code",
      "execution_count": null,
      "metadata": {
        "colab": {
          "base_uri": "https://localhost:8080/"
        },
        "id": "sLZDCrOjcAKp",
        "outputId": "dd67189c-3bce-4a87-c23f-f16a49140903"
      },
      "outputs": [
        {
          "output_type": "stream",
          "name": "stdout",
          "text": [
            "Mounted at /content/drive\n"
          ]
        }
      ],
      "source": [
        "from google.colab import drive\n",
        "drive.mount('/content/drive')"
      ]
    },
    {
      "cell_type": "code",
      "source": [
        "\n",
        "#base directory\n",
        "%cd /content/drive/MyDrive/ "
      ],
      "metadata": {
        "colab": {
          "base_uri": "https://localhost:8080/"
        },
        "id": "1naChj9C15sx",
        "outputId": "5630701b-2c67-4a22-cd76-8b0eaf6f481f"
      },
      "execution_count": null,
      "outputs": [
        {
          "output_type": "stream",
          "name": "stdout",
          "text": [
            "/content/drive/MyDrive\n"
          ]
        }
      ]
    },
    {
      "cell_type": "code",
      "source": [
        "%cd /content/"
      ],
      "metadata": {
        "colab": {
          "base_uri": "https://localhost:8080/"
        },
        "id": "l7hJxlsxbMO-",
        "outputId": "3b7bba84-7aa9-4ef5-926f-b17b08aca043"
      },
      "execution_count": 5,
      "outputs": [
        {
          "output_type": "stream",
          "name": "stdout",
          "text": [
            "/content\n"
          ]
        }
      ]
    },
    {
      "cell_type": "code",
      "source": [
        "## Install Coqui TTS\n",
        "! pip install -U pip\n",
        "! pip install TTS"
      ],
      "metadata": {
        "id": "97hSGCCLcF3R",
        "colab": {
          "base_uri": "https://localhost:8080/",
          "height": 1000
        },
        "outputId": "791392f3-ddef-44b5-cfa0-aa1153109f13"
      },
      "execution_count": 6,
      "outputs": [
        {
          "output_type": "stream",
          "name": "stdout",
          "text": [
            "Looking in indexes: https://pypi.org/simple, https://us-python.pkg.dev/colab-wheels/public/simple/\n",
            "Requirement already satisfied: pip in /usr/local/lib/python3.10/dist-packages (23.1.2)\n",
            "Looking in indexes: https://pypi.org/simple, https://us-python.pkg.dev/colab-wheels/public/simple/\n",
            "Collecting TTS\n",
            "  Downloading TTS-0.13.3-cp310-cp310-manylinux1_x86_64.whl (655 kB)\n",
            "\u001b[2K     \u001b[90m━━━━━━━━━━━━━━━━━━━━━━━━━━━━━━━━━━━━━━\u001b[0m \u001b[32m655.3/655.3 kB\u001b[0m \u001b[31m45.5 MB/s\u001b[0m eta \u001b[36m0:00:00\u001b[0m\n",
            "\u001b[?25hCollecting cython==0.29.28 (from TTS)\n",
            "  Downloading Cython-0.29.28-cp310-cp310-manylinux_2_17_x86_64.manylinux2014_x86_64.manylinux_2_24_x86_64.whl (1.9 MB)\n",
            "\u001b[2K     \u001b[90m━━━━━━━━━━━━━━━━━━━━━━━━━━━━━━━━━━━━━━━━\u001b[0m \u001b[32m1.9/1.9 MB\u001b[0m \u001b[31m69.5 MB/s\u001b[0m eta \u001b[36m0:00:00\u001b[0m\n",
            "\u001b[?25hRequirement already satisfied: scipy>=1.4.0 in /usr/local/lib/python3.10/dist-packages (from TTS) (1.10.1)\n",
            "Requirement already satisfied: torch>=1.7 in /usr/local/lib/python3.10/dist-packages (from TTS) (2.0.0+cu118)\n",
            "Requirement already satisfied: torchaudio in /usr/local/lib/python3.10/dist-packages (from TTS) (2.0.1+cu118)\n",
            "Requirement already satisfied: soundfile in /usr/local/lib/python3.10/dist-packages (from TTS) (0.12.1)\n",
            "Requirement already satisfied: librosa==0.10.0.* in /usr/local/lib/python3.10/dist-packages (from TTS) (0.10.0.post2)\n",
            "Collecting inflect==5.6.0 (from TTS)\n",
            "  Downloading inflect-5.6.0-py3-none-any.whl (33 kB)\n",
            "Requirement already satisfied: tqdm in /usr/local/lib/python3.10/dist-packages (from TTS) (4.65.0)\n",
            "Collecting anyascii (from TTS)\n",
            "  Downloading anyascii-0.3.2-py3-none-any.whl (289 kB)\n",
            "\u001b[2K     \u001b[90m━━━━━━━━━━━━━━━━━━━━━━━━━━━━━━━━━━━━━━\u001b[0m \u001b[32m289.9/289.9 kB\u001b[0m \u001b[31m31.7 MB/s\u001b[0m eta \u001b[36m0:00:00\u001b[0m\n",
            "\u001b[?25hRequirement already satisfied: pyyaml in /usr/local/lib/python3.10/dist-packages (from TTS) (6.0)\n",
            "Requirement already satisfied: fsspec>=2021.04.0 in /usr/local/lib/python3.10/dist-packages (from TTS) (2023.4.0)\n",
            "Collecting aiohttp (from TTS)\n",
            "  Downloading aiohttp-3.8.4-cp310-cp310-manylinux_2_17_x86_64.manylinux2014_x86_64.whl (1.0 MB)\n",
            "\u001b[2K     \u001b[90m━━━━━━━━━━━━━━━━━━━━━━━━━━━━━━━━━━━━━━━━\u001b[0m \u001b[32m1.0/1.0 MB\u001b[0m \u001b[31m70.9 MB/s\u001b[0m eta \u001b[36m0:00:00\u001b[0m\n",
            "\u001b[?25hRequirement already satisfied: packaging in /usr/local/lib/python3.10/dist-packages (from TTS) (23.1)\n",
            "Requirement already satisfied: flask in /usr/local/lib/python3.10/dist-packages (from TTS) (2.2.4)\n",
            "Collecting pysbd (from TTS)\n",
            "  Downloading pysbd-0.3.4-py3-none-any.whl (71 kB)\n",
            "\u001b[2K     \u001b[90m━━━━━━━━━━━━━━━━━━━━━━━━━━━━━━━━━━━━━━━━\u001b[0m \u001b[32m71.1/71.1 kB\u001b[0m \u001b[31m9.8 MB/s\u001b[0m eta \u001b[36m0:00:00\u001b[0m\n",
            "\u001b[?25hCollecting umap-learn==0.5.1 (from TTS)\n",
            "  Downloading umap-learn-0.5.1.tar.gz (80 kB)\n",
            "\u001b[2K     \u001b[90m━━━━━━━━━━━━━━━━━━━━━━━━━━━━━━━━━━━━━━━━\u001b[0m \u001b[32m80.9/80.9 kB\u001b[0m \u001b[31m12.3 MB/s\u001b[0m eta \u001b[36m0:00:00\u001b[0m\n",
            "\u001b[?25h  Preparing metadata (setup.py) ... \u001b[?25l\u001b[?25hdone\n",
            "Requirement already satisfied: pandas in /usr/local/lib/python3.10/dist-packages (from TTS) (1.5.3)\n",
            "Requirement already satisfied: matplotlib in /usr/local/lib/python3.10/dist-packages (from TTS) (3.7.1)\n",
            "Collecting trainer==0.0.20 (from TTS)\n",
            "  Downloading trainer-0.0.20-py3-none-any.whl (45 kB)\n",
            "\u001b[2K     \u001b[90m━━━━━━━━━━━━━━━━━━━━━━━━━━━━━━━━━━━━━━━━\u001b[0m \u001b[32m45.2/45.2 kB\u001b[0m \u001b[31m6.6 MB/s\u001b[0m eta \u001b[36m0:00:00\u001b[0m\n",
            "\u001b[?25hCollecting coqpit>=0.0.16 (from TTS)\n",
            "  Downloading coqpit-0.0.17-py3-none-any.whl (13 kB)\n",
            "Requirement already satisfied: jieba in /usr/local/lib/python3.10/dist-packages (from TTS) (0.42.1)\n",
            "Collecting pypinyin (from TTS)\n",
            "  Downloading pypinyin-0.48.0-py2.py3-none-any.whl (1.4 MB)\n",
            "\u001b[2K     \u001b[90m━━━━━━━━━━━━━━━━━━━━━━━━━━━━━━━━━━━━━━━━\u001b[0m \u001b[32m1.4/1.4 MB\u001b[0m \u001b[31m84.8 MB/s\u001b[0m eta \u001b[36m0:00:00\u001b[0m\n",
            "\u001b[?25hCollecting mecab-python3==1.0.5 (from TTS)\n",
            "  Downloading mecab_python3-1.0.5-cp310-cp310-manylinux_2_17_x86_64.manylinux2014_x86_64.whl (581 kB)\n",
            "\u001b[2K     \u001b[90m━━━━━━━━━━━━━━━━━━━━━━━━━━━━━━━━━━━━━━\u001b[0m \u001b[32m581.1/581.1 kB\u001b[0m \u001b[31m61.3 MB/s\u001b[0m eta \u001b[36m0:00:00\u001b[0m\n",
            "\u001b[?25hCollecting unidic-lite==1.0.8 (from TTS)\n",
            "  Downloading unidic-lite-1.0.8.tar.gz (47.4 MB)\n",
            "\u001b[2K     \u001b[90m━━━━━━━━━━━━━━━━━━━━━━━━━━━━━━━━━━━━━━━━\u001b[0m \u001b[32m47.4/47.4 MB\u001b[0m \u001b[31m17.6 MB/s\u001b[0m eta \u001b[36m0:00:00\u001b[0m\n",
            "\u001b[?25h  Preparing metadata (setup.py) ... \u001b[?25l\u001b[?25hdone\n",
            "Collecting gruut[de]==2.2.3 (from TTS)\n",
            "  Downloading gruut-2.2.3.tar.gz (73 kB)\n",
            "\u001b[2K     \u001b[90m━━━━━━━━━━━━━━━━━━━━━━━━━━━━━━━━━━━━━━━━\u001b[0m \u001b[32m73.5/73.5 kB\u001b[0m \u001b[31m10.5 MB/s\u001b[0m eta \u001b[36m0:00:00\u001b[0m\n",
            "\u001b[?25h  Preparing metadata (setup.py) ... \u001b[?25l\u001b[?25hdone\n",
            "Collecting jamo (from TTS)\n",
            "  Downloading jamo-0.4.1-py3-none-any.whl (9.5 kB)\n",
            "Requirement already satisfied: nltk in /usr/local/lib/python3.10/dist-packages (from TTS) (3.8.1)\n",
            "Collecting g2pkk>=0.1.1 (from TTS)\n",
            "  Downloading g2pkk-0.1.2-py3-none-any.whl (25 kB)\n",
            "Collecting bangla==0.0.2 (from TTS)\n",
            "  Downloading bangla-0.0.2-py2.py3-none-any.whl (6.2 kB)\n",
            "Collecting bnnumerizer (from TTS)\n",
            "  Downloading bnnumerizer-0.0.2.tar.gz (4.7 kB)\n",
            "  Preparing metadata (setup.py) ... \u001b[?25l\u001b[?25hdone\n",
            "Collecting bnunicodenormalizer==0.1.1 (from TTS)\n",
            "  Downloading bnunicodenormalizer-0.1.1.tar.gz (38 kB)\n",
            "  Preparing metadata (setup.py) ... \u001b[?25l\u001b[?25hdone\n",
            "Requirement already satisfied: numpy in /usr/local/lib/python3.10/dist-packages (from TTS) (1.22.4)\n",
            "Requirement already satisfied: numba==0.56.4 in /usr/local/lib/python3.10/dist-packages (from TTS) (0.56.4)\n",
            "Requirement already satisfied: Babel<3.0.0,>=2.8.0 in /usr/local/lib/python3.10/dist-packages (from gruut[de]==2.2.3->TTS) (2.12.1)\n",
            "Collecting dateparser~=1.1.0 (from gruut[de]==2.2.3->TTS)\n",
            "  Downloading dateparser-1.1.8-py2.py3-none-any.whl (293 kB)\n",
            "\u001b[2K     \u001b[90m━━━━━━━━━━━━━━━━━━━━━━━━━━━━━━━━━━━━━━\u001b[0m \u001b[32m293.8/293.8 kB\u001b[0m \u001b[31m33.7 MB/s\u001b[0m eta \u001b[36m0:00:00\u001b[0m\n",
            "\u001b[?25hCollecting gruut-ipa<1.0,>=0.12.0 (from gruut[de]==2.2.3->TTS)\n",
            "  Downloading gruut-ipa-0.13.0.tar.gz (101 kB)\n",
            "\u001b[2K     \u001b[90m━━━━━━━━━━━━━━━━━━━━━━━━━━━━━━━━━━━━━━\u001b[0m \u001b[32m101.6/101.6 kB\u001b[0m \u001b[31m14.2 MB/s\u001b[0m eta \u001b[36m0:00:00\u001b[0m\n",
            "\u001b[?25h  Preparing metadata (setup.py) ... \u001b[?25l\u001b[?25hdone\n",
            "Collecting gruut_lang_en~=2.0.0 (from gruut[de]==2.2.3->TTS)\n",
            "  Downloading gruut_lang_en-2.0.0.tar.gz (15.2 MB)\n",
            "\u001b[2K     \u001b[90m━━━━━━━━━━━━━━━━━━━━━━━━━━━━━━━━━━━━━━━━\u001b[0m \u001b[32m15.2/15.2 MB\u001b[0m \u001b[31m75.3 MB/s\u001b[0m eta \u001b[36m0:00:00\u001b[0m\n",
            "\u001b[?25h  Preparing metadata (setup.py) ... \u001b[?25l\u001b[?25hdone\n",
            "Collecting jsonlines~=1.2.0 (from gruut[de]==2.2.3->TTS)\n",
            "  Downloading jsonlines-1.2.0-py2.py3-none-any.whl (7.6 kB)\n",
            "Collecting networkx<3.0.0,>=2.5.0 (from gruut[de]==2.2.3->TTS)\n",
            "  Downloading networkx-2.8.8-py3-none-any.whl (2.0 MB)\n",
            "\u001b[2K     \u001b[90m━━━━━━━━━━━━━━━━━━━━━━━━━━━━━━━━━━━━━━━━\u001b[0m \u001b[32m2.0/2.0 MB\u001b[0m \u001b[31m68.2 MB/s\u001b[0m eta \u001b[36m0:00:00\u001b[0m\n",
            "\u001b[?25hCollecting num2words<1.0.0,>=0.5.10 (from gruut[de]==2.2.3->TTS)\n",
            "  Downloading num2words-0.5.12-py3-none-any.whl (125 kB)\n",
            "\u001b[2K     \u001b[90m━━━━━━━━━━━━━━━━━━━━━━━━━━━━━━━━━━━━━━\u001b[0m \u001b[32m125.2/125.2 kB\u001b[0m \u001b[31m17.8 MB/s\u001b[0m eta \u001b[36m0:00:00\u001b[0m\n",
            "\u001b[?25hCollecting python-crfsuite~=0.9.7 (from gruut[de]==2.2.3->TTS)\n",
            "  Downloading python_crfsuite-0.9.9-cp310-cp310-manylinux_2_17_x86_64.manylinux2014_x86_64.whl (993 kB)\n",
            "\u001b[2K     \u001b[90m━━━━━━━━━━━━━━━━━━━━━━━━━━━━━━━━━━━━━━\u001b[0m \u001b[32m993.5/993.5 kB\u001b[0m \u001b[31m78.2 MB/s\u001b[0m eta \u001b[36m0:00:00\u001b[0m\n",
            "\u001b[?25hCollecting gruut_lang_de~=2.0.0 (from gruut[de]==2.2.3->TTS)\n",
            "  Downloading gruut_lang_de-2.0.0.tar.gz (18.1 MB)\n",
            "\u001b[2K     \u001b[90m━━━━━━━━━━━━━━━━━━━━━━━━━━━━━━━━━━━━━━━━\u001b[0m \u001b[32m18.1/18.1 MB\u001b[0m \u001b[31m41.1 MB/s\u001b[0m eta \u001b[36m0:00:00\u001b[0m\n",
            "\u001b[?25h  Preparing metadata (setup.py) ... \u001b[?25l\u001b[?25hdone\n",
            "Requirement already satisfied: audioread>=2.1.9 in /usr/local/lib/python3.10/dist-packages (from librosa==0.10.0.*->TTS) (3.0.0)\n",
            "Requirement already satisfied: scikit-learn>=0.20.0 in /usr/local/lib/python3.10/dist-packages (from librosa==0.10.0.*->TTS) (1.2.2)\n",
            "Requirement already satisfied: joblib>=0.14 in /usr/local/lib/python3.10/dist-packages (from librosa==0.10.0.*->TTS) (1.2.0)\n",
            "Requirement already satisfied: decorator>=4.3.0 in /usr/local/lib/python3.10/dist-packages (from librosa==0.10.0.*->TTS) (4.4.2)\n",
            "Requirement already satisfied: pooch<1.7,>=1.0 in /usr/local/lib/python3.10/dist-packages (from librosa==0.10.0.*->TTS) (1.6.0)\n",
            "Requirement already satisfied: soxr>=0.3.2 in /usr/local/lib/python3.10/dist-packages (from librosa==0.10.0.*->TTS) (0.3.5)\n",
            "Requirement already satisfied: typing-extensions>=4.1.1 in /usr/local/lib/python3.10/dist-packages (from librosa==0.10.0.*->TTS) (4.5.0)\n",
            "Requirement already satisfied: lazy-loader>=0.1 in /usr/local/lib/python3.10/dist-packages (from librosa==0.10.0.*->TTS) (0.2)\n",
            "Requirement already satisfied: msgpack>=1.0 in /usr/local/lib/python3.10/dist-packages (from librosa==0.10.0.*->TTS) (1.0.5)\n",
            "Requirement already satisfied: llvmlite<0.40,>=0.39.0dev0 in /usr/local/lib/python3.10/dist-packages (from numba==0.56.4->TTS) (0.39.1)\n",
            "Requirement already satisfied: setuptools in /usr/local/lib/python3.10/dist-packages (from numba==0.56.4->TTS) (67.7.2)\n",
            "Requirement already satisfied: psutil in /usr/local/lib/python3.10/dist-packages (from trainer==0.0.20->TTS) (5.9.5)\n",
            "Collecting tensorboardX (from trainer==0.0.20->TTS)\n",
            "  Downloading tensorboardX-2.6-py2.py3-none-any.whl (114 kB)\n",
            "\u001b[2K     \u001b[90m━━━━━━━━━━━━━━━━━━━━━━━━━━━━━━━━━━━━━━\u001b[0m \u001b[32m114.5/114.5 kB\u001b[0m \u001b[31m14.4 MB/s\u001b[0m eta \u001b[36m0:00:00\u001b[0m\n",
            "\u001b[?25hCollecting protobuf<3.20,>=3.9.2 (from trainer==0.0.20->TTS)\n",
            "  Downloading protobuf-3.19.6-cp310-cp310-manylinux_2_17_x86_64.manylinux2014_x86_64.whl (1.1 MB)\n",
            "\u001b[2K     \u001b[90m━━━━━━━━━━━━━━━━━━━━━━━━━━━━━━━━━━━━━━━━\u001b[0m \u001b[32m1.1/1.1 MB\u001b[0m \u001b[31m37.0 MB/s\u001b[0m eta \u001b[36m0:00:00\u001b[0m\n",
            "\u001b[?25hCollecting pynndescent>=0.5 (from umap-learn==0.5.1->TTS)\n",
            "  Downloading pynndescent-0.5.10.tar.gz (1.1 MB)\n",
            "\u001b[2K     \u001b[90m━━━━━━━━━━━━━━━━━━━━━━━━━━━━━━━━━━━━━━━━\u001b[0m \u001b[32m1.1/1.1 MB\u001b[0m \u001b[31m86.5 MB/s\u001b[0m eta \u001b[36m0:00:00\u001b[0m\n",
            "\u001b[?25h  Preparing metadata (setup.py) ... \u001b[?25l\u001b[?25hdone\n",
            "Requirement already satisfied: cffi>=1.0 in /usr/local/lib/python3.10/dist-packages (from soundfile->TTS) (1.15.1)\n",
            "Requirement already satisfied: filelock in /usr/local/lib/python3.10/dist-packages (from torch>=1.7->TTS) (3.12.0)\n",
            "Requirement already satisfied: sympy in /usr/local/lib/python3.10/dist-packages (from torch>=1.7->TTS) (1.11.1)\n",
            "Requirement already satisfied: jinja2 in /usr/local/lib/python3.10/dist-packages (from torch>=1.7->TTS) (3.1.2)\n",
            "Requirement already satisfied: triton==2.0.0 in /usr/local/lib/python3.10/dist-packages (from torch>=1.7->TTS) (2.0.0)\n",
            "Requirement already satisfied: cmake in /usr/local/lib/python3.10/dist-packages (from triton==2.0.0->torch>=1.7->TTS) (3.25.2)\n",
            "Requirement already satisfied: lit in /usr/local/lib/python3.10/dist-packages (from triton==2.0.0->torch>=1.7->TTS) (16.0.3)\n",
            "Requirement already satisfied: attrs>=17.3.0 in /usr/local/lib/python3.10/dist-packages (from aiohttp->TTS) (23.1.0)\n",
            "Requirement already satisfied: charset-normalizer<4.0,>=2.0 in /usr/local/lib/python3.10/dist-packages (from aiohttp->TTS) (2.0.12)\n",
            "Collecting multidict<7.0,>=4.5 (from aiohttp->TTS)\n",
            "  Downloading multidict-6.0.4-cp310-cp310-manylinux_2_17_x86_64.manylinux2014_x86_64.whl (114 kB)\n",
            "\u001b[2K     \u001b[90m━━━━━━━━━━━━━━━━━━━━━━━━━━━━━━━━━━━━━━\u001b[0m \u001b[32m114.5/114.5 kB\u001b[0m \u001b[31m16.4 MB/s\u001b[0m eta \u001b[36m0:00:00\u001b[0m\n",
            "\u001b[?25hCollecting async-timeout<5.0,>=4.0.0a3 (from aiohttp->TTS)\n",
            "  Downloading async_timeout-4.0.2-py3-none-any.whl (5.8 kB)\n",
            "Collecting yarl<2.0,>=1.0 (from aiohttp->TTS)\n",
            "  Downloading yarl-1.9.2-cp310-cp310-manylinux_2_17_x86_64.manylinux2014_x86_64.whl (268 kB)\n",
            "\u001b[2K     \u001b[90m━━━━━━━━━━━━━━━━━━━━━━━━━━━━━━━━━━━━━━\u001b[0m \u001b[32m268.8/268.8 kB\u001b[0m \u001b[31m26.9 MB/s\u001b[0m eta \u001b[36m0:00:00\u001b[0m\n",
            "\u001b[?25hCollecting frozenlist>=1.1.1 (from aiohttp->TTS)\n",
            "  Downloading frozenlist-1.3.3-cp310-cp310-manylinux_2_5_x86_64.manylinux1_x86_64.manylinux_2_17_x86_64.manylinux2014_x86_64.whl (149 kB)\n",
            "\u001b[2K     \u001b[90m━━━━━━━━━━━━━━━━━━━━━━━━━━━━━━━━━━━━━━\u001b[0m \u001b[32m149.6/149.6 kB\u001b[0m \u001b[31m20.4 MB/s\u001b[0m eta \u001b[36m0:00:00\u001b[0m\n",
            "\u001b[?25hCollecting aiosignal>=1.1.2 (from aiohttp->TTS)\n",
            "  Downloading aiosignal-1.3.1-py3-none-any.whl (7.6 kB)\n",
            "Requirement already satisfied: Werkzeug>=2.2.2 in /usr/local/lib/python3.10/dist-packages (from flask->TTS) (2.3.0)\n",
            "Requirement already satisfied: itsdangerous>=2.0 in /usr/local/lib/python3.10/dist-packages (from flask->TTS) (2.1.2)\n",
            "Requirement already satisfied: click>=8.0 in /usr/local/lib/python3.10/dist-packages (from flask->TTS) (8.1.3)\n",
            "Requirement already satisfied: contourpy>=1.0.1 in /usr/local/lib/python3.10/dist-packages (from matplotlib->TTS) (1.0.7)\n",
            "Requirement already satisfied: cycler>=0.10 in /usr/local/lib/python3.10/dist-packages (from matplotlib->TTS) (0.11.0)\n",
            "Requirement already satisfied: fonttools>=4.22.0 in /usr/local/lib/python3.10/dist-packages (from matplotlib->TTS) (4.39.3)\n",
            "Requirement already satisfied: kiwisolver>=1.0.1 in /usr/local/lib/python3.10/dist-packages (from matplotlib->TTS) (1.4.4)\n",
            "Requirement already satisfied: pillow>=6.2.0 in /usr/local/lib/python3.10/dist-packages (from matplotlib->TTS) (8.4.0)\n",
            "Requirement already satisfied: pyparsing>=2.3.1 in /usr/local/lib/python3.10/dist-packages (from matplotlib->TTS) (3.0.9)\n",
            "Requirement already satisfied: python-dateutil>=2.7 in /usr/local/lib/python3.10/dist-packages (from matplotlib->TTS) (2.8.2)\n",
            "Requirement already satisfied: regex>=2021.8.3 in /usr/local/lib/python3.10/dist-packages (from nltk->TTS) (2022.10.31)\n",
            "Requirement already satisfied: pytz>=2020.1 in /usr/local/lib/python3.10/dist-packages (from pandas->TTS) (2022.7.1)\n",
            "Requirement already satisfied: pycparser in /usr/local/lib/python3.10/dist-packages (from cffi>=1.0->soundfile->TTS) (2.21)\n",
            "Requirement already satisfied: tzlocal in /usr/local/lib/python3.10/dist-packages (from dateparser~=1.1.0->gruut[de]==2.2.3->TTS) (4.3)\n",
            "Requirement already satisfied: MarkupSafe>=2.0 in /usr/local/lib/python3.10/dist-packages (from jinja2->torch>=1.7->TTS) (2.1.2)\n",
            "Requirement already satisfied: six in /usr/local/lib/python3.10/dist-packages (from jsonlines~=1.2.0->gruut[de]==2.2.3->TTS) (1.16.0)\n",
            "Collecting docopt>=0.6.2 (from num2words<1.0.0,>=0.5.10->gruut[de]==2.2.3->TTS)\n",
            "  Downloading docopt-0.6.2.tar.gz (25 kB)\n",
            "  Preparing metadata (setup.py) ... \u001b[?25l\u001b[?25hdone\n",
            "Requirement already satisfied: appdirs>=1.3.0 in /usr/local/lib/python3.10/dist-packages (from pooch<1.7,>=1.0->librosa==0.10.0.*->TTS) (1.4.4)\n",
            "Requirement already satisfied: requests>=2.19.0 in /usr/local/lib/python3.10/dist-packages (from pooch<1.7,>=1.0->librosa==0.10.0.*->TTS) (2.27.1)\n",
            "Requirement already satisfied: threadpoolctl>=2.0.0 in /usr/local/lib/python3.10/dist-packages (from scikit-learn>=0.20.0->librosa==0.10.0.*->TTS) (3.1.0)\n",
            "Requirement already satisfied: idna>=2.0 in /usr/local/lib/python3.10/dist-packages (from yarl<2.0,>=1.0->aiohttp->TTS) (3.4)\n",
            "Requirement already satisfied: mpmath>=0.19 in /usr/local/lib/python3.10/dist-packages (from sympy->torch>=1.7->TTS) (1.3.0)\n",
            "Requirement already satisfied: urllib3<1.27,>=1.21.1 in /usr/local/lib/python3.10/dist-packages (from requests>=2.19.0->pooch<1.7,>=1.0->librosa==0.10.0.*->TTS) (1.26.15)\n",
            "Requirement already satisfied: certifi>=2017.4.17 in /usr/local/lib/python3.10/dist-packages (from requests>=2.19.0->pooch<1.7,>=1.0->librosa==0.10.0.*->TTS) (2022.12.7)\n",
            "Requirement already satisfied: pytz-deprecation-shim in /usr/local/lib/python3.10/dist-packages (from tzlocal->dateparser~=1.1.0->gruut[de]==2.2.3->TTS) (0.1.0.post0)\n",
            "Requirement already satisfied: tzdata in /usr/local/lib/python3.10/dist-packages (from pytz-deprecation-shim->tzlocal->dateparser~=1.1.0->gruut[de]==2.2.3->TTS) (2023.3)\n",
            "Building wheels for collected packages: bnunicodenormalizer, umap-learn, unidic-lite, bnnumerizer, gruut-ipa, gruut_lang_de, gruut_lang_en, pynndescent, gruut, docopt\n",
            "  Building wheel for bnunicodenormalizer (setup.py) ... \u001b[?25l\u001b[?25hdone\n",
            "  Created wheel for bnunicodenormalizer: filename=bnunicodenormalizer-0.1.1-py3-none-any.whl size=21895 sha256=a0ac49a50ee052f787e6f6c679a6f2ee51640607318890c4c030bb0b8f4f05fe\n",
            "  Stored in directory: /root/.cache/pip/wheels/b4/f6/01/9e68ecec7c7ea85fc9431cfac42eba1c5a5f6debe5070de5c7\n",
            "  Building wheel for umap-learn (setup.py) ... \u001b[?25l\u001b[?25hdone\n",
            "  Created wheel for umap-learn: filename=umap_learn-0.5.1-py3-none-any.whl size=76548 sha256=f1ebf0e835b19817b5b7b641f5fc66a70a6975c09bc322822d000ab479bd72a5\n",
            "  Stored in directory: /root/.cache/pip/wheels/69/21/8e/802cb9c4c606a67139f538cb17bf3bf1b98b739a7900469953\n",
            "  Building wheel for unidic-lite (setup.py) ... \u001b[?25l\u001b[?25hdone\n",
            "  Created wheel for unidic-lite: filename=unidic_lite-1.0.8-py3-none-any.whl size=47658818 sha256=df3732576de1e6fe6509884ad800a80a30a7f397ee74b56f8f649c142aed7722\n",
            "  Stored in directory: /root/.cache/pip/wheels/89/e8/68/f9ac36b8cc6c8b3c96888cd57434abed96595d444f42243853\n",
            "  Building wheel for bnnumerizer (setup.py) ... \u001b[?25l\u001b[?25hdone\n",
            "  Created wheel for bnnumerizer: filename=bnnumerizer-0.0.2-py3-none-any.whl size=5259 sha256=ded7ca3857a047db960619716b799a615a07b5837b7f5ed6a6e23b12c0b50e0b\n",
            "  Stored in directory: /root/.cache/pip/wheels/59/6b/e8/223172e7d5c9f72df3ea1a0d9258f3a8ab5b28e827728edef5\n",
            "  Building wheel for gruut-ipa (setup.py) ... \u001b[?25l\u001b[?25hdone\n",
            "  Created wheel for gruut-ipa: filename=gruut_ipa-0.13.0-py3-none-any.whl size=104870 sha256=7e3ecc4f52fb50e30ef80e8eba53597da52fe154d9189cf286b3e4055bd0b352\n",
            "  Stored in directory: /root/.cache/pip/wheels/7b/18/49/e4f500ecdf0babe757953f844e4d7cd1ea81c5503c09bfe984\n",
            "  Building wheel for gruut_lang_de (setup.py) ... \u001b[?25l\u001b[?25hdone\n",
            "  Created wheel for gruut_lang_de: filename=gruut_lang_de-2.0.0-py3-none-any.whl size=18498182 sha256=320d344311efdecd3c3682311d599722c7fc6a2844589738f7c2eb8c648f5e75\n",
            "  Stored in directory: /root/.cache/pip/wheels/95/9a/05/cfce98f0c41a1a540f15708c4a02df190b82d84cf91ef6bc7f\n",
            "  Building wheel for gruut_lang_en (setup.py) ... \u001b[?25l\u001b[?25hdone\n",
            "  Created wheel for gruut_lang_en: filename=gruut_lang_en-2.0.0-py3-none-any.whl size=15297178 sha256=2571a2777ca1f842c8131134bfd6f2a165b8f4394dec0ec1c45e53d50b7ac548\n",
            "  Stored in directory: /root/.cache/pip/wheels/10/9c/fb/77c655a9fbd78cdb9935d0ab65d80ddd0a3bcf7dbe18261650\n",
            "  Building wheel for pynndescent (setup.py) ... \u001b[?25l\u001b[?25hdone\n",
            "  Created wheel for pynndescent: filename=pynndescent-0.5.10-py3-none-any.whl size=55622 sha256=74fb0bee434f9a70ae9f4cd90688bd7fb64279993ee2888d292aa812ca8516b8\n",
            "  Stored in directory: /root/.cache/pip/wheels/4a/38/5d/f60a40a66a9512b7e5e83517ebc2d1b42d857be97d135f1096\n",
            "  Building wheel for gruut (setup.py) ... \u001b[?25l\u001b[?25hdone\n",
            "  Created wheel for gruut: filename=gruut-2.2.3-py3-none-any.whl size=75799 sha256=535d1efc5f9a1cc2ab1f33e6c31efd680ae91dd17561f075a6677c4c2e649566\n",
            "  Stored in directory: /root/.cache/pip/wheels/fc/57/a8/f9de532daf5214f53644f20f3a9e6f69269453c87df9c0a817\n",
            "  Building wheel for docopt (setup.py) ... \u001b[?25l\u001b[?25hdone\n",
            "  Created wheel for docopt: filename=docopt-0.6.2-py2.py3-none-any.whl size=13707 sha256=6df223192029de2abe20fa0fdf03969f2b754761b2d68de22fbbba51cd67029d\n",
            "  Stored in directory: /root/.cache/pip/wheels/fc/ab/d4/5da2067ac95b36618c629a5f93f809425700506f72c9732fac\n",
            "Successfully built bnunicodenormalizer umap-learn unidic-lite bnnumerizer gruut-ipa gruut_lang_de gruut_lang_en pynndescent gruut docopt\n",
            "Installing collected packages: unidic-lite, python-crfsuite, mecab-python3, jamo, gruut_lang_en, gruut_lang_de, docopt, bnunicodenormalizer, bnnumerizer, bangla, pysbd, pypinyin, protobuf, num2words, networkx, multidict, jsonlines, inflect, gruut-ipa, frozenlist, cython, coqpit, async-timeout, anyascii, yarl, tensorboardX, g2pkk, aiosignal, pynndescent, dateparser, aiohttp, umap-learn, gruut, trainer, TTS\n",
            "  Attempting uninstall: protobuf\n",
            "    Found existing installation: protobuf 3.20.3\n",
            "    Uninstalling protobuf-3.20.3:\n",
            "      Successfully uninstalled protobuf-3.20.3\n",
            "  Attempting uninstall: networkx\n",
            "    Found existing installation: networkx 3.1\n",
            "    Uninstalling networkx-3.1:\n",
            "      Successfully uninstalled networkx-3.1\n",
            "  Attempting uninstall: inflect\n",
            "    Found existing installation: inflect 6.0.4\n",
            "    Uninstalling inflect-6.0.4:\n",
            "      Successfully uninstalled inflect-6.0.4\n",
            "  Attempting uninstall: cython\n",
            "    Found existing installation: Cython 0.29.34\n",
            "    Uninstalling Cython-0.29.34:\n",
            "      Successfully uninstalled Cython-0.29.34\n",
            "\u001b[31mERROR: pip's dependency resolver does not currently take into account all the packages that are installed. This behaviour is the source of the following dependency conflicts.\n",
            "tensorflow 2.12.0 requires protobuf!=4.21.0,!=4.21.1,!=4.21.2,!=4.21.3,!=4.21.4,!=4.21.5,<5.0.0dev,>=3.20.3, but you have protobuf 3.19.6 which is incompatible.\n",
            "tensorflow-datasets 4.9.2 requires protobuf>=3.20, but you have protobuf 3.19.6 which is incompatible.\n",
            "tensorflow-metadata 1.13.1 requires protobuf<5,>=3.20.3, but you have protobuf 3.19.6 which is incompatible.\u001b[0m\u001b[31m\n",
            "\u001b[0mSuccessfully installed TTS-0.13.3 aiohttp-3.8.4 aiosignal-1.3.1 anyascii-0.3.2 async-timeout-4.0.2 bangla-0.0.2 bnnumerizer-0.0.2 bnunicodenormalizer-0.1.1 coqpit-0.0.17 cython-0.29.28 dateparser-1.1.8 docopt-0.6.2 frozenlist-1.3.3 g2pkk-0.1.2 gruut-2.2.3 gruut-ipa-0.13.0 gruut_lang_de-2.0.0 gruut_lang_en-2.0.0 inflect-5.6.0 jamo-0.4.1 jsonlines-1.2.0 mecab-python3-1.0.5 multidict-6.0.4 networkx-2.8.8 num2words-0.5.12 protobuf-3.19.6 pynndescent-0.5.10 pypinyin-0.48.0 pysbd-0.3.4 python-crfsuite-0.9.9 tensorboardX-2.6 trainer-0.0.20 umap-learn-0.5.1 unidic-lite-1.0.8 yarl-1.9.2\n"
          ]
        },
        {
          "output_type": "display_data",
          "data": {
            "application/vnd.colab-display-data+json": {
              "pip_warning": {
                "packages": [
                  "google"
                ]
              }
            }
          },
          "metadata": {}
        }
      ]
    },
    {
      "cell_type": "code",
      "source": [
        "%cd /content/"
      ],
      "metadata": {
        "colab": {
          "base_uri": "https://localhost:8080/"
        },
        "id": "AYK9XHdBRpxU",
        "outputId": "ed5b3709-2cbe-48f2-d58b-498588098168"
      },
      "execution_count": null,
      "outputs": [
        {
          "output_type": "stream",
          "name": "stdout",
          "text": [
            "/content\n"
          ]
        }
      ]
    },
    {
      "cell_type": "code",
      "source": [
        "import os\n",
        "\n",
        "# BaseDatasetConfig: defines name, formatter and path of the dataset.\n",
        "from TTS.tts.configs.shared_configs import BaseDatasetConfig\n",
        "\n",
        "output_path = \"/content/drive/MyDrive/tts_train_dir\"\n",
        "if not os.path.exists(output_path):\n",
        "    os.makedirs(output_path)"
      ],
      "metadata": {
        "id": "4bxXPi8hcGTl"
      },
      "execution_count": null,
      "outputs": []
    },
    {
      "cell_type": "code",
      "source": [
        "import glob\n",
        "import os\n",
        "\n",
        "os.chdir(r'/content/drive/MyDrive/tts_train_dir/LJSpeech-1.1/wavs/')\n",
        "my_files = glob.glob('GEN*.wav')\n",
        "my_files.sort()\n",
        "print(my_files)"
      ],
      "metadata": {
        "colab": {
          "base_uri": "https://localhost:8080/"
        },
        "id": "iR8WzNfgcGW9",
        "outputId": "82b8bac3-02dd-41cf-8382-dd8d2eea361a"
      },
      "execution_count": null,
      "outputs": [
        {
          "output_type": "stream",
          "name": "stdout",
          "text": [
            "['GENGEN_001_Verse_001.wav', 'GENGEN_001_Verse_003.wav', 'GENGEN_001_Verse_008.wav', 'GENGEN_001_Verse_013.wav', 'GENGEN_001_Verse_024.wav', 'GENGEN_001_Verse_025.wav', 'GENGEN_001_Verse_026.wav', 'GENGEN_001_Verse_027.wav', 'GENGEN_001_Verse_028.wav', 'GENGEN_001_Verse_029.wav', 'GENGEN_001_Verse_030.wav', 'GENGEN_001_Verse_031.wav', 'GENGEN_002_Verse_001.wav', 'GENGEN_002_Verse_002.wav', 'GENGEN_002_Verse_004.wav', 'GENGEN_002_Verse_005.wav', 'GENGEN_002_Verse_006.wav', 'GENGEN_002_Verse_007.wav', 'GENGEN_002_Verse_011.wav', 'GENGEN_002_Verse_012.wav', 'GENGEN_002_Verse_013.wav', 'GENGEN_002_Verse_014.wav', 'GENGEN_002_Verse_015.wav', 'GENGEN_002_Verse_016.wav', 'GENGEN_002_Verse_017.wav', 'GENGEN_002_Verse_018.wav', 'GENGEN_002_Verse_019.wav', 'GENGEN_002_Verse_020.wav', 'GENGEN_002_Verse_021.wav', 'GENGEN_002_Verse_022.wav', 'GENGEN_002_Verse_023.wav', 'GENGEN_002_Verse_024.wav', 'GENGEN_002_Verse_025.wav', 'GENGEN_003_Verse_002.wav', 'GENGEN_003_Verse_004.wav', 'GENGEN_003_Verse_005.wav', 'GENGEN_003_Verse_006.wav', 'GENGEN_003_Verse_007.wav', 'GENGEN_003_Verse_008.wav', 'GENGEN_003_Verse_010.wav', 'GENGEN_003_Verse_012.wav', 'GENGEN_003_Verse_013.wav', 'GENGEN_003_Verse_015.wav', 'GENGEN_003_Verse_016.wav', 'GENGEN_003_Verse_018.wav', 'GENGEN_003_Verse_019.wav', 'GENGEN_003_Verse_021.wav', 'GENGEN_003_Verse_022.wav', 'GENGEN_003_Verse_023.wav', 'GENGEN_003_Verse_024.wav', 'GENGEN_004_Verse_001.wav', 'GENGEN_004_Verse_003.wav', 'GENGEN_004_Verse_004.wav', 'GENGEN_004_Verse_005.wav', 'GENGEN_004_Verse_007.wav', 'GENGEN_004_Verse_008.wav', 'GENGEN_004_Verse_009.wav', 'GENGEN_004_Verse_010.wav', 'GENGEN_004_Verse_011.wav', 'GENGEN_004_Verse_012.wav', 'GENGEN_004_Verse_013.wav', 'GENGEN_004_Verse_014.wav', 'GENGEN_004_Verse_016.wav', 'GENGEN_004_Verse_017.wav', 'GENGEN_004_Verse_019.wav', 'GENGEN_004_Verse_020.wav', 'GENGEN_004_Verse_021.wav', 'GENGEN_004_Verse_022.wav', 'GENGEN_004_Verse_023.wav', 'GENGEN_004_Verse_024.wav', 'GENGEN_004_Verse_026.wav', 'GENGEN_005_Verse_001.wav', 'GENGEN_005_Verse_002.wav', 'GENGEN_005_Verse_003.wav', 'GENGEN_005_Verse_004.wav', 'GENGEN_005_Verse_005.wav', 'GENGEN_005_Verse_006.wav', 'GENGEN_005_Verse_007.wav', 'GENGEN_005_Verse_008.wav', 'GENGEN_005_Verse_009.wav', 'GENGEN_005_Verse_010.wav', 'GENGEN_005_Verse_011.wav', 'GENGEN_005_Verse_012.wav', 'GENGEN_005_Verse_013.wav', 'GENGEN_005_Verse_014.wav', 'GENGEN_005_Verse_015.wav', 'GENGEN_005_Verse_017.wav', 'GENGEN_005_Verse_018.wav', 'GENGEN_005_Verse_019.wav', 'GENGEN_005_Verse_020.wav', 'GENGEN_005_Verse_021.wav', 'GENGEN_005_Verse_022.wav', 'GENGEN_005_Verse_023.wav', 'GENGEN_005_Verse_024.wav', 'GENGEN_005_Verse_025.wav', 'GENGEN_005_Verse_026.wav', 'GENGEN_005_Verse_027.wav', 'GENGEN_005_Verse_028.wav', 'GENGEN_005_Verse_029.wav', 'GENGEN_005_Verse_030.wav', 'GENGEN_005_Verse_031.wav', 'GENGEN_005_Verse_032.wav', 'GENGEN_006_Verse_001.wav', 'GENGEN_006_Verse_002.wav', 'GENGEN_006_Verse_003.wav', 'GENGEN_006_Verse_004.wav', 'GENGEN_006_Verse_005.wav', 'GENGEN_006_Verse_006.wav', 'GENGEN_006_Verse_007.wav', 'GENGEN_006_Verse_008.wav', 'GENGEN_006_Verse_009.wav', 'GENGEN_006_Verse_010.wav', 'GENGEN_006_Verse_011.wav', 'GENGEN_006_Verse_012.wav', 'GENGEN_006_Verse_013.wav', 'GENGEN_006_Verse_015.wav', 'GENGEN_006_Verse_016.wav', 'GENGEN_006_Verse_017.wav', 'GENGEN_006_Verse_018.wav', 'GENGEN_006_Verse_019.wav', 'GENGEN_006_Verse_020.wav', 'GENGEN_006_Verse_021.wav', 'GENGEN_006_Verse_022.wav', 'GENGEN_007_Verse_001.wav', 'GENGEN_007_Verse_002.wav', 'GENGEN_007_Verse_003.wav', 'GENGEN_007_Verse_004.wav', 'GENGEN_007_Verse_005.wav', 'GENGEN_007_Verse_006.wav', 'GENGEN_007_Verse_007.wav', 'GENGEN_007_Verse_008.wav', 'GENGEN_007_Verse_009.wav', 'GENGEN_007_Verse_011.wav', 'GENGEN_007_Verse_012.wav', 'GENGEN_007_Verse_013.wav', 'GENGEN_007_Verse_014.wav', 'GENGEN_007_Verse_015.wav', 'GENGEN_007_Verse_016.wav', 'GENGEN_007_Verse_017.wav', 'GENGEN_007_Verse_018.wav', 'GENGEN_007_Verse_019.wav', 'GENGEN_007_Verse_020.wav', 'GENGEN_007_Verse_021.wav', 'GENGEN_007_Verse_022.wav', 'GENGEN_007_Verse_023.wav', 'GENGEN_007_Verse_024.wav', 'GENGEN_008_Verse_001.wav', 'GENGEN_008_Verse_002.wav', 'GENGEN_008_Verse_004.wav', 'GENGEN_008_Verse_006.wav', 'GENGEN_008_Verse_007.wav', 'GENGEN_008_Verse_008.wav', 'GENGEN_008_Verse_009.wav', 'GENGEN_008_Verse_010.wav', 'GENGEN_008_Verse_011.wav', 'GENGEN_008_Verse_012.wav', 'GENGEN_008_Verse_013.wav', 'GENGEN_008_Verse_014.wav', 'GENGEN_008_Verse_015.wav', 'GENGEN_008_Verse_016.wav', 'GENGEN_008_Verse_018.wav', 'GENGEN_008_Verse_019.wav', 'GENGEN_008_Verse_020.wav', 'GENGEN_008_Verse_021.wav', 'GENGEN_008_Verse_022.wav', 'GENGEN_009_Verse_003.wav', 'GENGEN_009_Verse_004.wav', 'GENGEN_009_Verse_006.wav', 'GENGEN_009_Verse_007.wav', 'GENGEN_009_Verse_008.wav', 'GENGEN_009_Verse_009.wav', 'GENGEN_009_Verse_010.wav', 'GENGEN_009_Verse_011.wav', 'GENGEN_009_Verse_013.wav', 'GENGEN_009_Verse_014.wav', 'GENGEN_009_Verse_015.wav', 'GENGEN_009_Verse_017.wav', 'GENGEN_009_Verse_018.wav', 'GENGEN_009_Verse_019.wav', 'GENGEN_009_Verse_020.wav', 'GENGEN_009_Verse_021.wav', 'GENGEN_009_Verse_022.wav', 'GENGEN_009_Verse_023.wav', 'GENGEN_009_Verse_024.wav', 'GENGEN_009_Verse_025.wav', 'GENGEN_009_Verse_026.wav', 'GENGEN_009_Verse_028.wav', 'GENGEN_009_Verse_029.wav', 'GENGEN_010_Verse_003.wav', 'GENGEN_010_Verse_004.wav', 'GENGEN_010_Verse_005.wav', 'GENGEN_010_Verse_007.wav', 'GENGEN_010_Verse_008.wav', 'GENGEN_010_Verse_009.wav', 'GENGEN_010_Verse_010.wav', 'GENGEN_010_Verse_011.wav', 'GENGEN_010_Verse_012.wav', 'GENGEN_010_Verse_013.wav', 'GENGEN_010_Verse_014.wav', 'GENGEN_010_Verse_015.wav', 'GENGEN_010_Verse_016.wav', 'GENGEN_010_Verse_017.wav', 'GENGEN_010_Verse_018.wav', 'GENGEN_010_Verse_019.wav', 'GENGEN_010_Verse_020.wav', 'GENGEN_010_Verse_021.wav', 'GENGEN_010_Verse_022.wav', 'GENGEN_010_Verse_023.wav', 'GENGEN_010_Verse_024.wav', 'GENGEN_010_Verse_025.wav', 'GENGEN_010_Verse_026.wav', 'GENGEN_010_Verse_027.wav', 'GENGEN_010_Verse_028.wav', 'GENGEN_010_Verse_029.wav', 'GENGEN_010_Verse_030.wav', 'GENGEN_010_Verse_031.wav', 'GENGEN_010_Verse_032.wav', 'GENGEN_011_Verse_001.wav', 'GENGEN_011_Verse_002.wav', 'GENGEN_011_Verse_003.wav', 'GENGEN_011_Verse_004.wav', 'GENGEN_011_Verse_006.wav', 'GENGEN_011_Verse_007.wav', 'GENGEN_011_Verse_008.wav', 'GENGEN_011_Verse_009.wav', 'GENGEN_011_Verse_011.wav', 'GENGEN_011_Verse_012.wav', 'GENGEN_011_Verse_013.wav', 'GENGEN_011_Verse_015.wav', 'GENGEN_011_Verse_016.wav', 'GENGEN_011_Verse_017.wav', 'GENGEN_011_Verse_018.wav', 'GENGEN_011_Verse_019.wav', 'GENGEN_011_Verse_020.wav', 'GENGEN_011_Verse_021.wav', 'GENGEN_011_Verse_022.wav', 'GENGEN_011_Verse_023.wav', 'GENGEN_011_Verse_024.wav', 'GENGEN_011_Verse_026.wav', 'GENGEN_011_Verse_027.wav', 'GENGEN_011_Verse_028.wav', 'GENGEN_011_Verse_030.wav', 'GENGEN_011_Verse_031.wav', 'GENGEN_011_Verse_032.wav', 'GENGEN_012_Verse_001.wav', 'GENGEN_012_Verse_002.wav', 'GENGEN_012_Verse_003.wav', 'GENGEN_012_Verse_004.wav', 'GENGEN_012_Verse_005.wav', 'GENGEN_012_Verse_007.wav', 'GENGEN_012_Verse_008.wav', 'GENGEN_012_Verse_009.wav', 'GENGEN_012_Verse_010.wav', 'GENGEN_012_Verse_011.wav', 'GENGEN_012_Verse_012.wav', 'GENGEN_012_Verse_013.wav', 'GENGEN_012_Verse_014.wav', 'GENGEN_012_Verse_015.wav', 'GENGEN_012_Verse_016.wav', 'GENGEN_012_Verse_017.wav', 'GENGEN_012_Verse_020.wav', 'GENGEN_013_Verse_002.wav', 'GENGEN_013_Verse_003.wav', 'GENGEN_013_Verse_005.wav', 'GENGEN_013_Verse_007.wav', 'GENGEN_013_Verse_008.wav', 'GENGEN_013_Verse_009.wav', 'GENGEN_013_Verse_010.wav', 'GENGEN_013_Verse_012.wav', 'GENGEN_013_Verse_013.wav', 'GENGEN_013_Verse_014.wav', 'GENGEN_013_Verse_015.wav', 'GENGEN_013_Verse_016.wav', 'GENGEN_013_Verse_017.wav', 'GENGEN_013_Verse_018.wav', 'GENGEN_014_Verse_001.wav', 'GENGEN_014_Verse_002.wav', 'GENGEN_014_Verse_003.wav', 'GENGEN_014_Verse_004.wav', 'GENGEN_014_Verse_005.wav', 'GENGEN_014_Verse_006.wav', 'GENGEN_014_Verse_007.wav', 'GENGEN_014_Verse_008.wav', 'GENGEN_014_Verse_009.wav', 'GENGEN_014_Verse_011.wav', 'GENGEN_014_Verse_012.wav', 'GENGEN_014_Verse_015.wav', 'GENGEN_014_Verse_016.wav', 'GENGEN_014_Verse_017.wav', 'GENGEN_014_Verse_019.wav', 'GENGEN_014_Verse_020.wav', 'GENGEN_014_Verse_021.wav', 'GENGEN_014_Verse_022.wav', 'GENGEN_014_Verse_023.wav', 'GENGEN_014_Verse_024.wav', 'GENGEN_015_Verse_001.wav', 'GENGEN_015_Verse_002.wav', 'GENGEN_015_Verse_003.wav', 'GENGEN_015_Verse_004.wav', 'GENGEN_015_Verse_006.wav', 'GENGEN_015_Verse_007.wav', 'GENGEN_015_Verse_008.wav', 'GENGEN_015_Verse_009.wav', 'GENGEN_015_Verse_010.wav', 'GENGEN_015_Verse_011.wav', 'GENGEN_015_Verse_012.wav', 'GENGEN_015_Verse_013.wav', 'GENGEN_015_Verse_014.wav', 'GENGEN_015_Verse_015.wav', 'GENGEN_015_Verse_016.wav', 'GENGEN_015_Verse_017.wav', 'GENGEN_015_Verse_018.wav', 'GENGEN_015_Verse_019.wav', 'GENGEN_015_Verse_020.wav', 'GENGEN_015_Verse_021.wav', 'GENGEN_016_Verse_001.wav', 'GENGEN_016_Verse_002.wav', 'GENGEN_016_Verse_003.wav', 'GENGEN_016_Verse_004.wav', 'GENGEN_016_Verse_005.wav', 'GENGEN_016_Verse_006.wav', 'GENGEN_016_Verse_007.wav', 'GENGEN_016_Verse_008.wav', 'GENGEN_016_Verse_009.wav', 'GENGEN_016_Verse_010.wav', 'GENGEN_016_Verse_011.wav', 'GENGEN_016_Verse_013.wav', 'GENGEN_016_Verse_014.wav', 'GENGEN_016_Verse_016.wav', 'GENGEN_017_Verse_001.wav', 'GENGEN_017_Verse_002.wav', 'GENGEN_017_Verse_003.wav', 'GENGEN_017_Verse_004.wav', 'GENGEN_017_Verse_005.wav', 'GENGEN_017_Verse_006.wav', 'GENGEN_017_Verse_007.wav', 'GENGEN_017_Verse_008.wav', 'GENGEN_017_Verse_010.wav', 'GENGEN_017_Verse_012.wav', 'GENGEN_017_Verse_013.wav', 'GENGEN_017_Verse_014.wav', 'GENGEN_017_Verse_015.wav', 'GENGEN_017_Verse_016.wav', 'GENGEN_017_Verse_017.wav', 'GENGEN_017_Verse_018.wav', 'GENGEN_017_Verse_019.wav', 'GENGEN_017_Verse_020.wav', 'GENGEN_017_Verse_021.wav', 'GENGEN_017_Verse_022.wav', 'GENGEN_017_Verse_023.wav', 'GENGEN_017_Verse_024.wav', 'GENGEN_017_Verse_025.wav', 'GENGEN_017_Verse_026.wav', 'GENGEN_017_Verse_027.wav', 'GENGEN_018_Verse_001.wav', 'GENGEN_018_Verse_002.wav', 'GENGEN_018_Verse_004.wav', 'GENGEN_018_Verse_005.wav', 'GENGEN_018_Verse_006.wav', 'GENGEN_018_Verse_008.wav', 'GENGEN_018_Verse_009.wav', 'GENGEN_018_Verse_010.wav', 'GENGEN_018_Verse_011.wav', 'GENGEN_018_Verse_012.wav', 'GENGEN_018_Verse_013.wav', 'GENGEN_018_Verse_014.wav', 'GENGEN_018_Verse_015.wav', 'GENGEN_018_Verse_016.wav', 'GENGEN_018_Verse_017.wav', 'GENGEN_018_Verse_018.wav', 'GENGEN_018_Verse_019.wav', 'GENGEN_018_Verse_021.wav', 'GENGEN_018_Verse_022.wav', 'GENGEN_018_Verse_023.wav', 'GENGEN_018_Verse_024.wav', 'GENGEN_018_Verse_025.wav', 'GENGEN_018_Verse_028.wav', 'GENGEN_018_Verse_029.wav', 'GENGEN_018_Verse_030.wav', 'GENGEN_018_Verse_031.wav', 'GENGEN_018_Verse_032.wav', 'GENGEN_019_Verse_001.wav', 'GENGEN_019_Verse_002.wav', 'GENGEN_019_Verse_003.wav', 'GENGEN_019_Verse_004.wav', 'GENGEN_019_Verse_005.wav', 'GENGEN_019_Verse_006.wav', 'GENGEN_019_Verse_007.wav', 'GENGEN_019_Verse_009.wav', 'GENGEN_019_Verse_010.wav', 'GENGEN_019_Verse_012.wav', 'GENGEN_019_Verse_013.wav', 'GENGEN_019_Verse_015.wav', 'GENGEN_019_Verse_018.wav', 'GENGEN_019_Verse_019.wav', 'GENGEN_019_Verse_020.wav', 'GENGEN_019_Verse_021.wav', 'GENGEN_019_Verse_022.wav', 'GENGEN_019_Verse_023.wav', 'GENGEN_019_Verse_024.wav', 'GENGEN_019_Verse_025.wav', 'GENGEN_019_Verse_026.wav', 'GENGEN_019_Verse_027.wav', 'GENGEN_019_Verse_028.wav', 'GENGEN_019_Verse_030.wav', 'GENGEN_019_Verse_031.wav', 'GENGEN_019_Verse_032.wav', 'GENGEN_019_Verse_035.wav', 'GENGEN_019_Verse_036.wav', 'GENGEN_019_Verse_037.wav', 'GENGEN_020_Verse_001.wav', 'GENGEN_020_Verse_002.wav', 'GENGEN_020_Verse_003.wav', 'GENGEN_020_Verse_004.wav', 'GENGEN_020_Verse_005.wav', 'GENGEN_020_Verse_006.wav', 'GENGEN_020_Verse_007.wav', 'GENGEN_020_Verse_008.wav', 'GENGEN_020_Verse_009.wav', 'GENGEN_020_Verse_010.wav', 'GENGEN_020_Verse_011.wav', 'GENGEN_020_Verse_012.wav', 'GENGEN_020_Verse_013.wav', 'GENGEN_020_Verse_015.wav', 'GENGEN_020_Verse_016.wav', 'GENGEN_020_Verse_017.wav', 'GENGEN_020_Verse_018.wav', 'GENGEN_021_Verse_001.wav', 'GENGEN_021_Verse_002.wav', 'GENGEN_021_Verse_004.wav', 'GENGEN_021_Verse_005.wav', 'GENGEN_021_Verse_007.wav', 'GENGEN_021_Verse_008.wav', 'GENGEN_021_Verse_009.wav', 'GENGEN_021_Verse_010.wav', 'GENGEN_021_Verse_011.wav', 'GENGEN_021_Verse_012.wav', 'GENGEN_021_Verse_013.wav', 'GENGEN_021_Verse_014.wav', 'GENGEN_021_Verse_015.wav', 'GENGEN_021_Verse_016.wav', 'GENGEN_021_Verse_017.wav', 'GENGEN_021_Verse_018.wav', 'GENGEN_021_Verse_019.wav', 'GENGEN_021_Verse_021.wav', 'GENGEN_021_Verse_022.wav', 'GENGEN_021_Verse_023.wav', 'GENGEN_021_Verse_024.wav', 'GENGEN_021_Verse_028.wav', 'GENGEN_021_Verse_029.wav', 'GENGEN_021_Verse_030.wav', 'GENGEN_021_Verse_031.wav', 'GENGEN_021_Verse_032.wav', 'GENGEN_021_Verse_033.wav', 'GENGEN_021_Verse_034.wav', 'GENGEN_022_Verse_001.wav', 'GENGEN_022_Verse_002.wav', 'GENGEN_022_Verse_003.wav', 'GENGEN_022_Verse_004.wav', 'GENGEN_022_Verse_005.wav', 'GENGEN_022_Verse_006.wav', 'GENGEN_022_Verse_008.wav', 'GENGEN_022_Verse_009.wav', 'GENGEN_022_Verse_010.wav', 'GENGEN_022_Verse_011.wav', 'GENGEN_022_Verse_012.wav', 'GENGEN_022_Verse_014.wav', 'GENGEN_022_Verse_015.wav', 'GENGEN_022_Verse_017.wav', 'GENGEN_022_Verse_018.wav', 'GENGEN_022_Verse_019.wav', 'GENGEN_022_Verse_021.wav', 'GENGEN_022_Verse_022.wav', 'GENGEN_022_Verse_023.wav', 'GENGEN_023_Verse_001.wav', 'GENGEN_023_Verse_003.wav', 'GENGEN_023_Verse_004.wav', 'GENGEN_023_Verse_006.wav', 'GENGEN_023_Verse_007.wav', 'GENGEN_023_Verse_008.wav', 'GENGEN_023_Verse_009.wav', 'GENGEN_023_Verse_010.wav', 'GENGEN_023_Verse_011.wav', 'GENGEN_023_Verse_013.wav', 'GENGEN_023_Verse_015.wav', 'GENGEN_023_Verse_016.wav', 'GENGEN_023_Verse_017.wav', 'GENGEN_023_Verse_018.wav', 'GENGEN_023_Verse_019.wav', 'GENGEN_023_Verse_020.wav', 'GENGEN_024_Verse_001.wav', 'GENGEN_024_Verse_003.wav', 'GENGEN_024_Verse_004.wav', 'GENGEN_024_Verse_005.wav', 'GENGEN_024_Verse_006.wav', 'GENGEN_024_Verse_007.wav', 'GENGEN_024_Verse_008.wav', 'GENGEN_024_Verse_010.wav', 'GENGEN_024_Verse_011.wav', 'GENGEN_024_Verse_012.wav', 'GENGEN_024_Verse_013.wav', 'GENGEN_024_Verse_014.wav', 'GENGEN_024_Verse_017.wav', 'GENGEN_024_Verse_018.wav', 'GENGEN_024_Verse_019.wav', 'GENGEN_024_Verse_020.wav', 'GENGEN_024_Verse_021.wav', 'GENGEN_024_Verse_022.wav', 'GENGEN_024_Verse_023.wav', 'GENGEN_024_Verse_024.wav', 'GENGEN_024_Verse_025.wav', 'GENGEN_024_Verse_026.wav', 'GENGEN_024_Verse_028.wav', 'GENGEN_024_Verse_029.wav', 'GENGEN_024_Verse_030.wav', 'GENGEN_024_Verse_033.wav', 'GENGEN_024_Verse_034.wav', 'GENGEN_024_Verse_036.wav', 'GENGEN_024_Verse_037.wav', 'GENGEN_024_Verse_038.wav', 'GENGEN_024_Verse_039.wav', 'GENGEN_024_Verse_042.wav', 'GENGEN_024_Verse_043.wav', 'GENGEN_024_Verse_044.wav', 'GENGEN_024_Verse_045.wav', 'GENGEN_024_Verse_046.wav', 'GENGEN_024_Verse_047.wav', 'GENGEN_024_Verse_048.wav', 'GENGEN_024_Verse_049.wav', 'GENGEN_024_Verse_050.wav', 'GENGEN_024_Verse_051.wav', 'GENGEN_024_Verse_052.wav', 'GENGEN_024_Verse_053.wav', 'GENGEN_024_Verse_054.wav', 'GENGEN_024_Verse_055.wav', 'GENGEN_024_Verse_056.wav', 'GENGEN_024_Verse_057.wav', 'GENGEN_024_Verse_059.wav', 'GENGEN_024_Verse_060.wav', 'GENGEN_024_Verse_061.wav', 'GENGEN_024_Verse_062.wav', 'GENGEN_024_Verse_063.wav', 'GENGEN_024_Verse_064.wav', 'GENGEN_024_Verse_065.wav', 'GENGEN_024_Verse_066.wav', 'GENGEN_024_Verse_067.wav', 'GENGEN_025_Verse_001.wav', 'GENGEN_025_Verse_002.wav', 'GENGEN_025_Verse_003.wav', 'GENGEN_025_Verse_004.wav', 'GENGEN_025_Verse_005.wav', 'GENGEN_025_Verse_006.wav', 'GENGEN_025_Verse_007.wav', 'GENGEN_025_Verse_008.wav', 'GENGEN_025_Verse_010.wav', 'GENGEN_025_Verse_011.wav', 'GENGEN_025_Verse_012.wav', 'GENGEN_025_Verse_013.wav', 'GENGEN_025_Verse_014.wav', 'GENGEN_025_Verse_015.wav', 'GENGEN_025_Verse_017.wav', 'GENGEN_025_Verse_018.wav', 'GENGEN_025_Verse_019.wav', 'GENGEN_025_Verse_020.wav', 'GENGEN_025_Verse_021.wav', 'GENGEN_025_Verse_022.wav', 'GENGEN_025_Verse_023.wav', 'GENGEN_025_Verse_024.wav', 'GENGEN_025_Verse_025.wav', 'GENGEN_025_Verse_026.wav', 'GENGEN_025_Verse_027.wav', 'GENGEN_025_Verse_028.wav', 'GENGEN_025_Verse_029.wav', 'GENGEN_025_Verse_030.wav', 'GENGEN_025_Verse_031.wav', 'GENGEN_025_Verse_032.wav', 'GENGEN_025_Verse_033.wav', 'GENGEN_025_Verse_034.wav', 'GENGEN_026_Verse_002.wav', 'GENGEN_026_Verse_003.wav', 'GENGEN_026_Verse_004.wav', 'GENGEN_026_Verse_005.wav', 'GENGEN_026_Verse_006.wav', 'GENGEN_026_Verse_007.wav', 'GENGEN_026_Verse_008.wav', 'GENGEN_026_Verse_009.wav', 'GENGEN_026_Verse_010.wav', 'GENGEN_026_Verse_011.wav', 'GENGEN_026_Verse_012.wav', 'GENGEN_026_Verse_014.wav', 'GENGEN_026_Verse_015.wav', 'GENGEN_026_Verse_017.wav', 'GENGEN_026_Verse_018.wav', 'GENGEN_026_Verse_020.wav', 'GENGEN_026_Verse_021.wav', 'GENGEN_026_Verse_022.wav', 'GENGEN_026_Verse_023.wav', 'GENGEN_026_Verse_024.wav', 'GENGEN_026_Verse_026.wav', 'GENGEN_026_Verse_028.wav', 'GENGEN_026_Verse_029.wav', 'GENGEN_026_Verse_030.wav', 'GENGEN_026_Verse_031.wav', 'GENGEN_026_Verse_033.wav', 'GENGEN_026_Verse_034.wav', 'GENGEN_026_Verse_035.wav', 'GENGEN_027_Verse_002.wav', 'GENGEN_027_Verse_003.wav', 'GENGEN_027_Verse_004.wav', 'GENGEN_027_Verse_006.wav', 'GENGEN_027_Verse_008.wav', 'GENGEN_027_Verse_009.wav', 'GENGEN_027_Verse_010.wav', 'GENGEN_027_Verse_011.wav', 'GENGEN_027_Verse_012.wav', 'GENGEN_027_Verse_013.wav', 'GENGEN_027_Verse_014.wav', 'GENGEN_027_Verse_015.wav', 'GENGEN_027_Verse_016.wav', 'GENGEN_027_Verse_017.wav', 'GENGEN_027_Verse_018.wav', 'GENGEN_027_Verse_019.wav', 'GENGEN_027_Verse_020.wav', 'GENGEN_027_Verse_022.wav', 'GENGEN_027_Verse_025.wav', 'GENGEN_027_Verse_026.wav', 'GENGEN_027_Verse_028.wav', 'GENGEN_027_Verse_029.wav', 'GENGEN_027_Verse_030.wav', 'GENGEN_027_Verse_031.wav', 'GENGEN_027_Verse_032.wav', 'GENGEN_027_Verse_033.wav', 'GENGEN_027_Verse_034.wav', 'GENGEN_027_Verse_035.wav', 'GENGEN_027_Verse_037.wav', 'GENGEN_027_Verse_039.wav', 'GENGEN_027_Verse_041.wav', 'GENGEN_027_Verse_042.wav', 'GENGEN_027_Verse_044.wav', 'GENGEN_027_Verse_045.wav', 'GENGEN_028_Verse_001.wav', 'GENGEN_028_Verse_003.wav', 'GENGEN_028_Verse_004.wav', 'GENGEN_028_Verse_006.wav', 'GENGEN_028_Verse_009.wav', 'GENGEN_028_Verse_010.wav', 'GENGEN_028_Verse_011.wav', 'GENGEN_028_Verse_012.wav', 'GENGEN_028_Verse_013.wav', 'GENGEN_028_Verse_014.wav', 'GENGEN_028_Verse_015.wav', 'GENGEN_028_Verse_017.wav', 'GENGEN_028_Verse_018.wav', 'GENGEN_028_Verse_019.wav', 'GENGEN_028_Verse_020.wav', 'GENGEN_028_Verse_021.wav', 'GENGEN_028_Verse_022.wav', 'GENGEN_029_Verse_001.wav', 'GENGEN_029_Verse_004.wav', 'GENGEN_029_Verse_005.wav', 'GENGEN_029_Verse_011.wav', 'GENGEN_029_Verse_012.wav', 'GENGEN_029_Verse_014.wav', 'GENGEN_029_Verse_016.wav', 'GENGEN_029_Verse_017.wav', 'GENGEN_029_Verse_018.wav', 'GENGEN_029_Verse_020.wav', 'GENGEN_029_Verse_022.wav', 'GENGEN_029_Verse_023.wav', 'GENGEN_029_Verse_025.wav', 'GENGEN_029_Verse_027.wav', 'GENGEN_029_Verse_028.wav', 'GENGEN_029_Verse_029.wav', 'GENGEN_029_Verse_030.wav', 'GENGEN_029_Verse_032.wav', 'GENGEN_029_Verse_033.wav', 'GENGEN_030_Verse_001.wav', 'GENGEN_030_Verse_004.wav', 'GENGEN_030_Verse_005.wav', 'GENGEN_030_Verse_006.wav', 'GENGEN_030_Verse_007.wav', 'GENGEN_030_Verse_008.wav', 'GENGEN_030_Verse_011.wav', 'GENGEN_030_Verse_012.wav', 'GENGEN_030_Verse_016.wav', 'GENGEN_030_Verse_018.wav', 'GENGEN_030_Verse_020.wav', 'GENGEN_030_Verse_021.wav', 'GENGEN_030_Verse_022.wav', 'GENGEN_030_Verse_023.wav', 'GENGEN_030_Verse_028.wav', 'GENGEN_030_Verse_029.wav', 'GENGEN_030_Verse_030.wav', 'GENGEN_030_Verse_031.wav', 'GENGEN_030_Verse_034.wav', 'GENGEN_030_Verse_036.wav', 'GENGEN_030_Verse_038.wav', 'GENGEN_030_Verse_039.wav', 'GENGEN_030_Verse_040.wav', 'GENGEN_030_Verse_041.wav', 'GENGEN_030_Verse_042.wav', 'GENGEN_030_Verse_043.wav', 'GENGEN_031_Verse_001.wav', 'GENGEN_031_Verse_003.wav', 'GENGEN_031_Verse_007.wav', 'GENGEN_031_Verse_008.wav', 'GENGEN_031_Verse_009.wav', 'GENGEN_031_Verse_010.wav', 'GENGEN_031_Verse_011.wav', 'GENGEN_031_Verse_012.wav', 'GENGEN_031_Verse_014.wav', 'GENGEN_031_Verse_015.wav', 'GENGEN_031_Verse_016.wav', 'GENGEN_031_Verse_017.wav', 'GENGEN_031_Verse_020.wav', 'GENGEN_031_Verse_021.wav', 'GENGEN_031_Verse_022.wav', 'GENGEN_031_Verse_023.wav', 'GENGEN_031_Verse_024.wav', 'GENGEN_031_Verse_027.wav', 'GENGEN_031_Verse_030.wav', 'GENGEN_031_Verse_031.wav', 'GENGEN_031_Verse_033.wav', 'GENGEN_031_Verse_035.wav', 'GENGEN_031_Verse_037.wav', 'GENGEN_031_Verse_038.wav', 'GENGEN_031_Verse_039.wav', 'GENGEN_031_Verse_041.wav', 'GENGEN_031_Verse_042.wav', 'GENGEN_031_Verse_043.wav', 'GENGEN_031_Verse_045.wav', 'GENGEN_031_Verse_049.wav', 'GENGEN_031_Verse_051.wav', 'GENGEN_031_Verse_055.wav', 'GENGEN_032_Verse_002.wav', 'GENGEN_032_Verse_003.wav', 'GENGEN_032_Verse_004.wav', 'GENGEN_032_Verse_005.wav', 'GENGEN_032_Verse_006.wav', 'GENGEN_032_Verse_007.wav', 'GENGEN_032_Verse_008.wav', 'GENGEN_032_Verse_009.wav', 'GENGEN_032_Verse_011.wav', 'GENGEN_032_Verse_012.wav', 'GENGEN_032_Verse_014.wav', 'GENGEN_032_Verse_015.wav', 'GENGEN_032_Verse_016.wav', 'GENGEN_032_Verse_018.wav', 'GENGEN_032_Verse_019.wav', 'GENGEN_032_Verse_020.wav', 'GENGEN_032_Verse_021.wav', 'GENGEN_032_Verse_022.wav', 'GENGEN_032_Verse_024.wav', 'GENGEN_032_Verse_027.wav', 'GENGEN_032_Verse_028.wav', 'GENGEN_032_Verse_029.wav', 'GENGEN_032_Verse_031.wav', 'GENGEN_032_Verse_032.wav', 'GENGEN_033_Verse_001.wav', 'GENGEN_033_Verse_002.wav', 'GENGEN_033_Verse_004.wav', 'GENGEN_033_Verse_005.wav', 'GENGEN_033_Verse_006.wav', 'GENGEN_033_Verse_008.wav', 'GENGEN_033_Verse_009.wav', 'GENGEN_033_Verse_010.wav', 'GENGEN_033_Verse_011.wav', 'GENGEN_033_Verse_012.wav', 'GENGEN_033_Verse_014.wav', 'GENGEN_033_Verse_016.wav', 'GENGEN_033_Verse_017.wav', 'GENGEN_033_Verse_018.wav', 'GENGEN_033_Verse_019.wav', 'GENGEN_033_Verse_020.wav', 'GENGEN_034_Verse_001.wav', 'GENGEN_034_Verse_002.wav', 'GENGEN_034_Verse_003.wav', 'GENGEN_034_Verse_004.wav', 'GENGEN_034_Verse_005.wav', 'GENGEN_034_Verse_006.wav', 'GENGEN_034_Verse_007.wav', 'GENGEN_034_Verse_008.wav', 'GENGEN_034_Verse_011.wav', 'GENGEN_034_Verse_012.wav', 'GENGEN_034_Verse_013.wav', 'GENGEN_034_Verse_014.wav', 'GENGEN_034_Verse_015.wav', 'GENGEN_034_Verse_016.wav', 'GENGEN_034_Verse_017.wav', 'GENGEN_034_Verse_018.wav', 'GENGEN_034_Verse_019.wav', 'GENGEN_034_Verse_020.wav', 'GENGEN_034_Verse_022.wav', 'GENGEN_034_Verse_024.wav', 'GENGEN_034_Verse_025.wav', 'GENGEN_034_Verse_026.wav', 'GENGEN_034_Verse_027.wav', 'GENGEN_034_Verse_028.wav', 'GENGEN_034_Verse_029.wav', 'GENGEN_034_Verse_030.wav', 'GENGEN_034_Verse_031.wav', 'GENGEN_035_Verse_002.wav', 'GENGEN_035_Verse_003.wav', 'GENGEN_035_Verse_004.wav', 'GENGEN_035_Verse_005.wav', 'GENGEN_035_Verse_007.wav', 'GENGEN_035_Verse_008.wav', 'GENGEN_035_Verse_009.wav', 'GENGEN_035_Verse_010.wav', 'GENGEN_035_Verse_011.wav', 'GENGEN_035_Verse_012.wav', 'GENGEN_035_Verse_013.wav', 'GENGEN_035_Verse_015.wav', 'GENGEN_035_Verse_016.wav', 'GENGEN_035_Verse_017.wav', 'GENGEN_035_Verse_018.wav', 'GENGEN_035_Verse_020.wav', 'GENGEN_035_Verse_021.wav', 'GENGEN_035_Verse_022.wav', 'GENGEN_035_Verse_023.wav', 'GENGEN_035_Verse_024.wav', 'GENGEN_035_Verse_025.wav', 'GENGEN_035_Verse_027.wav', 'GENGEN_035_Verse_028.wav', 'GENGEN_035_Verse_029.wav', 'GENGEN_036_Verse_002.wav', 'GENGEN_036_Verse_003.wav', 'GENGEN_036_Verse_004.wav', 'GENGEN_036_Verse_005.wav', 'GENGEN_036_Verse_006.wav', 'GENGEN_036_Verse_007.wav', 'GENGEN_036_Verse_009.wav', 'GENGEN_036_Verse_010.wav', 'GENGEN_036_Verse_011.wav', 'GENGEN_036_Verse_012.wav', 'GENGEN_036_Verse_013.wav', 'GENGEN_036_Verse_014.wav', 'GENGEN_036_Verse_015.wav', 'GENGEN_036_Verse_016.wav', 'GENGEN_036_Verse_017.wav', 'GENGEN_036_Verse_018.wav', 'GENGEN_036_Verse_019.wav', 'GENGEN_036_Verse_020.wav', 'GENGEN_036_Verse_021.wav', 'GENGEN_036_Verse_022.wav', 'GENGEN_036_Verse_023.wav', 'GENGEN_036_Verse_024.wav', 'GENGEN_036_Verse_025.wav', 'GENGEN_036_Verse_027.wav', 'GENGEN_036_Verse_028.wav', 'GENGEN_036_Verse_030.wav', 'GENGEN_036_Verse_031.wav', 'GENGEN_036_Verse_032.wav', 'GENGEN_036_Verse_033.wav', 'GENGEN_036_Verse_034.wav', 'GENGEN_036_Verse_036.wav', 'GENGEN_036_Verse_037.wav', 'GENGEN_036_Verse_039.wav', 'GENGEN_036_Verse_040.wav', 'GENGEN_036_Verse_041.wav', 'GENGEN_036_Verse_042.wav', 'GENGEN_037_Verse_001.wav', 'GENGEN_037_Verse_002.wav', 'GENGEN_037_Verse_003.wav', 'GENGEN_037_Verse_005.wav', 'GENGEN_037_Verse_006.wav', 'GENGEN_037_Verse_007.wav', 'GENGEN_037_Verse_008.wav', 'GENGEN_037_Verse_009.wav', 'GENGEN_037_Verse_011.wav', 'GENGEN_037_Verse_012.wav', 'GENGEN_037_Verse_013.wav', 'GENGEN_037_Verse_014.wav', 'GENGEN_037_Verse_015.wav', 'GENGEN_037_Verse_016.wav', 'GENGEN_037_Verse_017.wav', 'GENGEN_037_Verse_018.wav', 'GENGEN_037_Verse_020.wav', 'GENGEN_037_Verse_021.wav', 'GENGEN_037_Verse_022.wav', 'GENGEN_037_Verse_023.wav', 'GENGEN_037_Verse_026.wav', 'GENGEN_037_Verse_027.wav', 'GENGEN_037_Verse_029.wav', 'GENGEN_037_Verse_031.wav', 'GENGEN_037_Verse_033.wav', 'GENGEN_037_Verse_034.wav', 'GENGEN_037_Verse_035.wav', 'GENGEN_037_Verse_036.wav', 'GENGEN_038_Verse_001.wav', 'GENGEN_038_Verse_002.wav', 'GENGEN_038_Verse_003.wav', 'GENGEN_038_Verse_004.wav', 'GENGEN_038_Verse_005.wav', 'GENGEN_038_Verse_006.wav', 'GENGEN_038_Verse_007.wav', 'GENGEN_038_Verse_008.wav', 'GENGEN_038_Verse_009.wav', 'GENGEN_038_Verse_010.wav', 'GENGEN_038_Verse_011.wav', 'GENGEN_038_Verse_012.wav', 'GENGEN_038_Verse_013.wav', 'GENGEN_038_Verse_014.wav', 'GENGEN_038_Verse_015.wav', 'GENGEN_038_Verse_016.wav', 'GENGEN_038_Verse_017.wav', 'GENGEN_038_Verse_018.wav', 'GENGEN_038_Verse_020.wav', 'GENGEN_038_Verse_022.wav', 'GENGEN_038_Verse_023.wav', 'GENGEN_038_Verse_024.wav', 'GENGEN_038_Verse_025.wav', 'GENGEN_038_Verse_026.wav', 'GENGEN_038_Verse_027.wav', 'GENGEN_038_Verse_028.wav', 'GENGEN_038_Verse_029.wav', 'GENGEN_038_Verse_030.wav', 'GENGEN_039_Verse_001.wav', 'GENGEN_039_Verse_002.wav', 'GENGEN_039_Verse_003.wav', 'GENGEN_039_Verse_004.wav', 'GENGEN_039_Verse_005.wav', 'GENGEN_039_Verse_007.wav', 'GENGEN_039_Verse_008.wav', 'GENGEN_039_Verse_009.wav', 'GENGEN_039_Verse_010.wav', 'GENGEN_039_Verse_011.wav', 'GENGEN_039_Verse_012.wav', 'GENGEN_039_Verse_013.wav', 'GENGEN_039_Verse_015.wav', 'GENGEN_039_Verse_016.wav', 'GENGEN_039_Verse_017.wav', 'GENGEN_039_Verse_018.wav', 'GENGEN_039_Verse_019.wav', 'GENGEN_039_Verse_020.wav', 'GENGEN_039_Verse_021.wav', 'GENGEN_039_Verse_022.wav', 'GENGEN_040_Verse_001.wav', 'GENGEN_040_Verse_002.wav', 'GENGEN_040_Verse_003.wav', 'GENGEN_040_Verse_004.wav', 'GENGEN_040_Verse_005.wav', 'GENGEN_040_Verse_006.wav', 'GENGEN_040_Verse_007.wav', 'GENGEN_040_Verse_008.wav', 'GENGEN_040_Verse_009.wav', 'GENGEN_040_Verse_010.wav', 'GENGEN_040_Verse_011.wav', 'GENGEN_040_Verse_013.wav', 'GENGEN_040_Verse_014.wav', 'GENGEN_040_Verse_015.wav', 'GENGEN_040_Verse_016.wav', 'GENGEN_040_Verse_017.wav', 'GENGEN_040_Verse_018.wav', 'GENGEN_040_Verse_019.wav', 'GENGEN_040_Verse_020.wav', 'GENGEN_040_Verse_021.wav', 'GENGEN_041_Verse_001.wav', 'GENGEN_041_Verse_002.wav', 'GENGEN_041_Verse_003.wav', 'GENGEN_041_Verse_004.wav', 'GENGEN_041_Verse_005.wav', 'GENGEN_041_Verse_006.wav', 'GENGEN_041_Verse_008.wav', 'GENGEN_041_Verse_009.wav', 'GENGEN_041_Verse_010.wav', 'GENGEN_041_Verse_011.wav', 'GENGEN_041_Verse_012.wav', 'GENGEN_041_Verse_013.wav', 'GENGEN_041_Verse_015.wav', 'GENGEN_041_Verse_016.wav', 'GENGEN_041_Verse_017.wav', 'GENGEN_041_Verse_018.wav', 'GENGEN_041_Verse_019.wav', 'GENGEN_041_Verse_020.wav', 'GENGEN_041_Verse_021.wav', 'GENGEN_041_Verse_022.wav', 'GENGEN_041_Verse_023.wav', 'GENGEN_041_Verse_024.wav', 'GENGEN_041_Verse_025.wav', 'GENGEN_041_Verse_026.wav', 'GENGEN_041_Verse_028.wav', 'GENGEN_041_Verse_029.wav', 'GENGEN_041_Verse_030.wav', 'GENGEN_041_Verse_031.wav', 'GENGEN_041_Verse_032.wav', 'GENGEN_041_Verse_034.wav', 'GENGEN_041_Verse_035.wav', 'GENGEN_041_Verse_036.wav', 'GENGEN_041_Verse_037.wav', 'GENGEN_041_Verse_038.wav', 'GENGEN_041_Verse_039.wav', 'GENGEN_041_Verse_040.wav', 'GENGEN_041_Verse_041.wav', 'GENGEN_041_Verse_042.wav', 'GENGEN_041_Verse_043.wav', 'GENGEN_041_Verse_044.wav', 'GENGEN_041_Verse_045.wav', 'GENGEN_041_Verse_046.wav', 'GENGEN_041_Verse_047.wav', 'GENGEN_041_Verse_048.wav', 'GENGEN_041_Verse_049.wav', 'GENGEN_041_Verse_050.wav', 'GENGEN_041_Verse_051.wav', 'GENGEN_041_Verse_052.wav', 'GENGEN_041_Verse_053.wav', 'GENGEN_041_Verse_054.wav', 'GENGEN_041_Verse_055.wav', 'GENGEN_041_Verse_056.wav', 'GENGEN_041_Verse_057.wav', 'GENGEN_042_Verse_001.wav', 'GENGEN_042_Verse_002.wav', 'GENGEN_042_Verse_003.wav', 'GENGEN_042_Verse_004.wav', 'GENGEN_042_Verse_005.wav', 'GENGEN_042_Verse_006.wav', 'GENGEN_042_Verse_007.wav', 'GENGEN_042_Verse_008.wav', 'GENGEN_042_Verse_009.wav', 'GENGEN_042_Verse_010.wav', 'GENGEN_042_Verse_012.wav', 'GENGEN_042_Verse_013.wav', 'GENGEN_042_Verse_014.wav', 'GENGEN_042_Verse_015.wav', 'GENGEN_042_Verse_016.wav', 'GENGEN_042_Verse_017.wav', 'GENGEN_042_Verse_018.wav', 'GENGEN_042_Verse_019.wav', 'GENGEN_042_Verse_021.wav', 'GENGEN_042_Verse_022.wav', 'GENGEN_042_Verse_023.wav', 'GENGEN_042_Verse_024.wav', 'GENGEN_042_Verse_026.wav', 'GENGEN_042_Verse_027.wav', 'GENGEN_042_Verse_028.wav', 'GENGEN_042_Verse_029.wav', 'GENGEN_042_Verse_030.wav', 'GENGEN_042_Verse_031.wav', 'GENGEN_042_Verse_032.wav', 'GENGEN_042_Verse_033.wav', 'GENGEN_042_Verse_034.wav', 'GENGEN_042_Verse_035.wav', 'GENGEN_042_Verse_036.wav', 'GENGEN_042_Verse_038.wav', 'GENGEN_043_Verse_001.wav', 'GENGEN_043_Verse_002.wav', 'GENGEN_043_Verse_003.wav', 'GENGEN_043_Verse_004.wav', 'GENGEN_043_Verse_005.wav', 'GENGEN_043_Verse_006.wav', 'GENGEN_043_Verse_007.wav', 'GENGEN_043_Verse_008.wav', 'GENGEN_043_Verse_009.wav', 'GENGEN_043_Verse_010.wav', 'GENGEN_043_Verse_011.wav', 'GENGEN_043_Verse_013.wav', 'GENGEN_043_Verse_014.wav', 'GENGEN_043_Verse_015.wav', 'GENGEN_043_Verse_016.wav', 'GENGEN_043_Verse_017.wav', 'GENGEN_043_Verse_018.wav', 'GENGEN_043_Verse_019.wav', 'GENGEN_043_Verse_020.wav', 'GENGEN_043_Verse_021.wav', 'GENGEN_043_Verse_022.wav', 'GENGEN_043_Verse_024.wav', 'GENGEN_043_Verse_025.wav', 'GENGEN_043_Verse_027.wav', 'GENGEN_043_Verse_028.wav', 'GENGEN_043_Verse_029.wav', 'GENGEN_043_Verse_030.wav', 'GENGEN_043_Verse_032.wav', 'GENGEN_043_Verse_033.wav', 'GENGEN_043_Verse_034.wav', 'GENGEN_044_Verse_001.wav', 'GENGEN_044_Verse_002.wav', 'GENGEN_044_Verse_003.wav', 'GENGEN_044_Verse_004.wav', 'GENGEN_044_Verse_006.wav', 'GENGEN_044_Verse_007.wav', 'GENGEN_044_Verse_009.wav', 'GENGEN_044_Verse_010.wav', 'GENGEN_044_Verse_011.wav', 'GENGEN_044_Verse_012.wav', 'GENGEN_044_Verse_013.wav', 'GENGEN_044_Verse_014.wav', 'GENGEN_044_Verse_015.wav', 'GENGEN_044_Verse_016.wav', 'GENGEN_044_Verse_017.wav', 'GENGEN_044_Verse_018.wav', 'GENGEN_044_Verse_019.wav', 'GENGEN_044_Verse_020.wav', 'GENGEN_044_Verse_021.wav', 'GENGEN_044_Verse_022.wav', 'GENGEN_044_Verse_023.wav', 'GENGEN_044_Verse_024.wav', 'GENGEN_044_Verse_025.wav', 'GENGEN_044_Verse_027.wav', 'GENGEN_044_Verse_028.wav', 'GENGEN_044_Verse_029.wav', 'GENGEN_044_Verse_030.wav', 'GENGEN_044_Verse_031.wav', 'GENGEN_044_Verse_032.wav', 'GENGEN_044_Verse_033.wav', 'GENGEN_044_Verse_034.wav', 'GENGEN_045_Verse_001.wav', 'GENGEN_045_Verse_002.wav', 'GENGEN_045_Verse_003.wav', 'GENGEN_045_Verse_004.wav', 'GENGEN_045_Verse_006.wav', 'GENGEN_045_Verse_007.wav', 'GENGEN_045_Verse_008.wav', 'GENGEN_045_Verse_009.wav', 'GENGEN_045_Verse_010.wav', 'GENGEN_045_Verse_011.wav', 'GENGEN_045_Verse_012.wav', 'GENGEN_045_Verse_013.wav', 'GENGEN_045_Verse_014.wav', 'GENGEN_045_Verse_015.wav', 'GENGEN_045_Verse_016.wav', 'GENGEN_045_Verse_017.wav', 'GENGEN_045_Verse_019.wav', 'GENGEN_045_Verse_020.wav', 'GENGEN_045_Verse_021.wav', 'GENGEN_045_Verse_022.wav', 'GENGEN_045_Verse_023.wav', 'GENGEN_045_Verse_024.wav', 'GENGEN_045_Verse_026.wav', 'GENGEN_045_Verse_027.wav', 'GENGEN_045_Verse_028.wav', 'GENGEN_046_Verse_001.wav', 'GENGEN_046_Verse_002.wav', 'GENGEN_046_Verse_005.wav', 'GENGEN_046_Verse_008.wav', 'GENGEN_046_Verse_009.wav', 'GENGEN_046_Verse_010.wav', 'GENGEN_046_Verse_011.wav', 'GENGEN_046_Verse_012.wav', 'GENGEN_046_Verse_013.wav', 'GENGEN_046_Verse_014.wav', 'GENGEN_046_Verse_015.wav', 'GENGEN_046_Verse_016.wav', 'GENGEN_046_Verse_017.wav', 'GENGEN_046_Verse_019.wav', 'GENGEN_046_Verse_020.wav', 'GENGEN_046_Verse_021.wav', 'GENGEN_046_Verse_022.wav', 'GENGEN_046_Verse_023.wav', 'GENGEN_046_Verse_024.wav', 'GENGEN_046_Verse_025.wav', 'GENGEN_046_Verse_029.wav', 'GENGEN_046_Verse_030.wav', 'GENGEN_046_Verse_031.wav', 'GENGEN_046_Verse_032.wav', 'GENGEN_046_Verse_033.wav', 'GENGEN_046_Verse_034.wav', 'GENGEN_047_Verse_001.wav', 'GENGEN_047_Verse_002.wav', 'GENGEN_047_Verse_003.wav', 'GENGEN_047_Verse_004.wav', 'GENGEN_047_Verse_005.wav', 'GENGEN_047_Verse_006.wav', 'GENGEN_047_Verse_007.wav', 'GENGEN_047_Verse_010.wav', 'GENGEN_047_Verse_011.wav', 'GENGEN_047_Verse_012.wav', 'GENGEN_047_Verse_013.wav', 'GENGEN_047_Verse_014.wav', 'GENGEN_047_Verse_015.wav', 'GENGEN_047_Verse_017.wav', 'GENGEN_047_Verse_018.wav', 'GENGEN_047_Verse_020.wav', 'GENGEN_047_Verse_021.wav', 'GENGEN_047_Verse_022.wav', 'GENGEN_047_Verse_023.wav', 'GENGEN_047_Verse_024.wav', 'GENGEN_047_Verse_025.wav', 'GENGEN_047_Verse_026.wav', 'GENGEN_047_Verse_027.wav', 'GENGEN_047_Verse_028.wav', 'GENGEN_047_Verse_029.wav', 'GENGEN_047_Verse_030.wav', 'GENGEN_047_Verse_031.wav']\n"
          ]
        }
      ]
    },
    {
      "cell_type": "code",
      "source": [
        "len(my_files)"
      ],
      "metadata": {
        "colab": {
          "base_uri": "https://localhost:8080/"
        },
        "id": "BEJtzMRm67ha",
        "outputId": "dfdd706f-6257-4046-8823-a8e49108c5ae"
      },
      "execution_count": null,
      "outputs": [
        {
          "output_type": "execute_result",
          "data": {
            "text/plain": [
              "1183"
            ]
          },
          "metadata": {},
          "execution_count": 6
        }
      ]
    },
    {
      "cell_type": "code",
      "source": [],
      "metadata": {
        "id": "htLqR16vLoF3"
      },
      "execution_count": null,
      "outputs": []
    },
    {
      "cell_type": "code",
      "source": [
        "# importing the modules\n",
        "import os\n",
        "import shutil\n",
        "\n",
        "# Providing the folder path\n",
        "origin = '/content/drive/MyDrive/TheTraining/correctFileFormat/wavs/'\n",
        "target = '/content/drive/MyDrive/tts_train_dir/LJSpeech-1.1/wavs/'\n",
        "\n",
        "\n",
        "# Fetching all the files to directory\n",
        "for i in my_files:\n",
        "   shutil.copy(origin+i, target+i)\n",
        "   print(\"done..\",i)\n",
        "print(\"Files are copied successfully\")"
      ],
      "metadata": {
        "id": "JHGuAFn0cGbP"
      },
      "execution_count": null,
      "outputs": []
    },
    {
      "cell_type": "code",
      "source": [
        "%cd /content/drive/MyDrive/tts_train_dir/LJSpeech-1.1/wavs/"
      ],
      "metadata": {
        "colab": {
          "base_uri": "https://localhost:8080/"
        },
        "id": "CGoP-zVccGfY",
        "outputId": "277d20d1-fc55-483b-8d30-8f29ef99a8bd"
      },
      "execution_count": null,
      "outputs": [
        {
          "output_type": "stream",
          "name": "stdout",
          "text": [
            "/content/drive/MyDrive/tts_train_dir/LJSpeech-1.1/wavs\n"
          ]
        }
      ]
    },
    {
      "cell_type": "code",
      "source": [
        "%cd /content/drive/MyDrive/"
      ],
      "metadata": {
        "colab": {
          "base_uri": "https://localhost:8080/"
        },
        "id": "KzvdbSQjRFIB",
        "outputId": "533c861a-55d4-4d36-a605-c29d49ca72d4"
      },
      "execution_count": null,
      "outputs": [
        {
          "output_type": "stream",
          "name": "stdout",
          "text": [
            "/content/drive/MyDrive\n"
          ]
        }
      ]
    },
    {
      "cell_type": "code",
      "source": [
        "#remove\n",
        "!rm '/content/drive/MyDrive/tts_train_dir/LJSpeech-1.1/wavs/GENGEN_021_Verse_028 (1).wav'"
      ],
      "metadata": {
        "id": "RKhDxk8HcGjn"
      },
      "execution_count": null,
      "outputs": []
    },
    {
      "cell_type": "code",
      "source": [
        "dataset_config = BaseDatasetConfig(\n",
        "    formatter=\"thorsten\", meta_file_train=\"metadata.txt\", language=\"twi\", path=\"/content/drive/MyDrive/tts_train_dir/LJSpeech-1.1/\"\n",
        ")"
      ],
      "metadata": {
        "id": "VHmNXI1vcGnx"
      },
      "execution_count": null,
      "outputs": []
    },
    {
      "cell_type": "code",
      "source": [
        "from TTS.config.shared_configs import BaseAudioConfig\n",
        "audio_config = BaseAudioConfig(\n",
        "    sample_rate=22050,\n",
        "    win_length=1024, \n",
        "    hop_length=256, \n",
        "    num_mels=80, \n",
        "    mel_fmin=0, \n",
        "    mel_fmax=None, \n",
        "    power=1.3,\n",
        "    ref_level_db=20,\n",
        "    preemphasis = 0.98    \n",
        ")"
      ],
      "metadata": {
        "id": "W6so24bhcGr0"
      },
      "execution_count": null,
      "outputs": []
    },
    {
      "cell_type": "code",
      "source": [
        "from TTS.tts.configs.vits_config import VitsConfig\n",
        "config = VitsConfig(\n",
        "    output_path=output_path,\n",
        "    logger_uri=None,\n",
        "    run_name=\"vits_ljspeech\",\n",
        "    audio=audio_config,\n",
        "    batch_size=16,\n",
        "    batch_group_size=5,\n",
        "    eval_batch_size=8,\n",
        "    num_loader_workers=2,\n",
        "    num_eval_loader_workers=2,\n",
        "    run_eval=False,\n",
        "    test_delay_epochs=-1,\n",
        "    epochs=2,\n",
        "    text_cleaner=\"multilingual_cleaners\",\n",
        "    use_phonemes=False,\n",
        "    print_step=5,\n",
        "    plot_step=6,\n",
        "    print_eval=False,\n",
        "    mixed_precision=False,\n",
        "    datasets=[dataset_config],\n",
        "    cudnn_benchmark=False,\n",
        "    save_step = 2,\n",
        "    save_n_checkpoints=2, \n",
        "    save_checkpoints= True\n",
        ")"
      ],
      "metadata": {
        "id": "04imAPqqcGvd"
      },
      "execution_count": null,
      "outputs": []
    },
    {
      "cell_type": "code",
      "source": [
        "from TTS.utils.audio import AudioProcessor\n",
        "ap = AudioProcessor.init_from_config(config)"
      ],
      "metadata": {
        "colab": {
          "base_uri": "https://localhost:8080/"
        },
        "id": "0ThZ7S19cGz0",
        "outputId": "0b9fee8a-9a7e-4f13-ed3c-95c23f31d479"
      },
      "execution_count": null,
      "outputs": [
        {
          "output_type": "stream",
          "name": "stdout",
          "text": [
            " > Setting up Audio Processor...\n",
            " | > sample_rate:22050\n",
            " | > resample:False\n",
            " | > num_mels:80\n",
            " | > log_func:np.log10\n",
            " | > min_level_db:-100\n",
            " | > frame_shift_ms:None\n",
            " | > frame_length_ms:None\n",
            " | > ref_level_db:20\n",
            " | > fft_size:1024\n",
            " | > power:1.3\n",
            " | > preemphasis:0.98\n",
            " | > griffin_lim_iters:60\n",
            " | > signal_norm:True\n",
            " | > symmetric_norm:True\n",
            " | > mel_fmin:0\n",
            " | > mel_fmax:None\n",
            " | > pitch_fmin:1.0\n",
            " | > pitch_fmax:640.0\n",
            " | > spec_gain:20.0\n",
            " | > stft_pad_mode:reflect\n",
            " | > max_norm:4.0\n",
            " | > clip_norm:True\n",
            " | > do_trim_silence:True\n",
            " | > trim_db:45\n",
            " | > do_sound_norm:False\n",
            " | > do_amp_to_db_linear:True\n",
            " | > do_amp_to_db_mel:True\n",
            " | > do_rms_norm:False\n",
            " | > db_level:None\n",
            " | > stats_path:None\n",
            " | > base:10\n",
            " | > hop_length:256\n",
            " | > win_length:1024\n"
          ]
        }
      ]
    },
    {
      "cell_type": "code",
      "source": [
        "from TTS.tts.utils.text.tokenizer import TTSTokenizer\n",
        "tokenizer, config = TTSTokenizer.init_from_config(config)"
      ],
      "metadata": {
        "id": "h05LyWwZcG3w"
      },
      "execution_count": null,
      "outputs": []
    },
    {
      "cell_type": "code",
      "source": [
        "from TTS.tts.models.vits import Vits\n",
        "model = Vits(config, ap, tokenizer, speaker_manager=None)"
      ],
      "metadata": {
        "id": "qxP5WHTKcG76"
      },
      "execution_count": null,
      "outputs": []
    },
    {
      "cell_type": "code",
      "source": [
        "from TTS.tts.datasets import load_tts_samples\n",
        "train_samples, eval_samples = load_tts_samples(\n",
        "    dataset_config,\n",
        "    eval_split=False\n",
        "    )"
      ],
      "metadata": {
        "colab": {
          "base_uri": "https://localhost:8080/"
        },
        "id": "NKB6ZrvWcFzU",
        "outputId": "9947f03a-ce22-4f3f-d86e-65a471e2f02c"
      },
      "execution_count": null,
      "outputs": [
        {
          "output_type": "stream",
          "name": "stdout",
          "text": [
            " | > Found 1183 files in /content/drive/MyDrive/tts_train_dir/LJSpeech-1.1\n"
          ]
        }
      ]
    },
    {
      "cell_type": "code",
      "source": [
        "#!rm -r '/content/drive/MyDrive/tts_train_dir/vits_ljspeech-April-21-2023_03+04PM-0000000'"
      ],
      "metadata": {
        "id": "kd2ddnbLXf_B"
      },
      "execution_count": null,
      "outputs": []
    },
    {
      "cell_type": "code",
      "source": [
        "from trainer import Trainer, TrainerArgs\n",
        "trainer = Trainer(\n",
        "    TrainerArgs(), config, output_path, model=model, train_samples=train_samples\n",
        ")"
      ],
      "metadata": {
        "colab": {
          "base_uri": "https://localhost:8080/"
        },
        "id": "r-NzkSUGcFuf",
        "outputId": "8bd3980b-bf69-45d2-a230-2ad6ac4e7a71"
      },
      "execution_count": null,
      "outputs": [
        {
          "output_type": "stream",
          "name": "stderr",
          "text": [
            " > Training Environment:\n",
            " | > Num. of CPUs: 2\n",
            " | > Num. of Torch Threads: 1\n",
            " | > Torch seed: 54321\n",
            " | > Torch CUDNN: True\n",
            " | > Torch CUDNN deterministic: False\n",
            " | > Torch CUDNN benchmark: False\n",
            " > Start Tensorboard: tensorboard --logdir=/content/drive/MyDrive/tts_train_dir/vits_ljspeech-April-21-2023_03+32PM-0000000\n",
            "\n",
            " > Model has 83046892 parameters\n"
          ]
        }
      ]
    },
    {
      "cell_type": "code",
      "source": [
        "'''\n",
        "\n",
        "with open('/content/drive/MyDrive/tts_train_dir/LJSpeech-1.1/metadata.txt','r' ) as fp, open('/content/drive/MyDrive/tts_train_dir/LJSpeech-1.1/metadata2.txt','w' ) as tp:\n",
        "  for i in fp:\n",
        "    wv = i.split('|')[0]\n",
        "    wvF = \"/content/drive/MyDrive/tts_train_dir/LJSpeech-1.1/wavs/\" + wv + '.wav'\n",
        "    if os.path.exists(wvF):\n",
        "      tp.write(i)\n",
        "\n",
        "\n",
        "----------\n",
        "\n",
        "item2 = []\n",
        "\n",
        "with open('/content/drive/MyDrive/tts_train_dir/LJSpeech-1.1/metadata.txt','r' ) as fp:\n",
        "  for i in fp:\n",
        "    wv = i.split('|')[0]\n",
        "    wvF =  wv + '.wav'\n",
        "    item2.append(wvF)\n",
        "\n",
        "print(item2)\n",
        "\n",
        "\n",
        "nAv = []\n",
        "for i in my_files:\n",
        "  if i not in item2:\n",
        "    nAv.append(i)\n",
        "    \n",
        "\n",
        "print(nAv)\n",
        "\n",
        "'''\n"
      ],
      "metadata": {
        "colab": {
          "base_uri": "https://localhost:8080/"
        },
        "id": "nz9woH8_MP6s",
        "outputId": "736c1773-a395-48c8-ef2f-4d4706439de5"
      },
      "execution_count": null,
      "outputs": [
        {
          "output_type": "stream",
          "name": "stdout",
          "text": [
            "['GENGEN_038_Verse_015 (1).wav', 'GENGEN_038_Verse_027 (1).wav', 'GENGEN_039_Verse_013 (1).wav', 'GENGEN_039_Verse_015 (1).wav', 'GENGEN_047_Verse_032.wav']\n"
          ]
        }
      ]
    },
    {
      "cell_type": "code",
      "source": [
        "\n"
      ],
      "metadata": {
        "id": "YxeHwQxzPhBR"
      },
      "execution_count": null,
      "outputs": []
    },
    {
      "cell_type": "code",
      "source": [
        "trainer.fit()"
      ],
      "metadata": {
        "colab": {
          "base_uri": "https://localhost:8080/"
        },
        "id": "rgH4rPvtcFp6",
        "outputId": "a2666920-ea4c-4ce2-9c5b-fe02a9028eb9"
      },
      "execution_count": null,
      "outputs": [
        {
          "output_type": "stream",
          "name": "stderr",
          "text": [
            "\n",
            "\u001b[4m\u001b[1m > EPOCH: 0/2\u001b[0m\n",
            " --> /content/drive/MyDrive/tts_train_dir/vits_ljspeech-April-21-2023_03+32PM-0000000\n"
          ]
        },
        {
          "output_type": "stream",
          "name": "stdout",
          "text": [
            "\n",
            "\n",
            "> DataLoader initialization\n",
            "| > Tokenizer:\n",
            "\t| > add_blank: True\n",
            "\t| > use_eos_bos: False\n",
            "\t| > use_phonemes: False\n",
            "| > Number of instances : 1183\n"
          ]
        },
        {
          "output_type": "stream",
          "name": "stderr",
          "text": [
            "\n",
            "\u001b[1m > TRAINING (2023-04-21 15:33:11) \u001b[0m\n"
          ]
        },
        {
          "output_type": "stream",
          "name": "stdout",
          "text": [
            " | > Preprocessing samples\n",
            " | > Max text length: 296\n",
            " | > Min text length: 17\n",
            " | > Avg text length: 111.72696534234996\n",
            " | \n",
            " | > Max audio length: 1951558.0\n",
            " | > Min audio length: 159867.0\n",
            " | > Avg audio length: 776624.9611158073\n",
            " | > Num. instances discarded samples: 0\n",
            " | > Batch group size: 80.\n"
          ]
        },
        {
          "output_type": "stream",
          "name": "stderr",
          "text": [
            "/usr/local/lib/python3.9/dist-packages/torch/functional.py:641: UserWarning: stft with return_complex=False is deprecated. In a future pytorch release, stft will return complex tensors for all inputs, and return_complex=False will raise an error.\n",
            "Note: you can still call torch.view_as_real on the complex output to recover the old return format. (Triggered internally at ../aten/src/ATen/native/SpectralOps.cpp:862.)\n",
            "  return _VF.stft(input, n_fft, hop_length, win_length, window,  # type: ignore[attr-defined]\n",
            "\n",
            "\u001b[1m   --> STEP: 0/74 -- GLOBAL_STEP: 0\u001b[0m\n",
            "     | > loss_disc: 6.02103  (6.02103)\n",
            "     | > loss_disc_real_0: 0.99106  (0.99106)\n",
            "     | > loss_disc_real_1: 1.03855  (1.03855)\n",
            "     | > loss_disc_real_2: 0.98170  (0.98170)\n",
            "     | > loss_disc_real_3: 0.99586  (0.99586)\n",
            "     | > loss_disc_real_4: 1.01673  (1.01673)\n",
            "     | > loss_disc_real_5: 0.99657  (0.99657)\n",
            "     | > loss_0: 6.02103  (6.02103)\n",
            "     | > grad_norm_0: 6.69198  (6.69198)\n",
            "     | > loss_gen: 4.53939  (4.53939)\n",
            "     | > loss_kl: 179.03343  (179.03343)\n",
            "     | > loss_feat: 0.40531  (0.40531)\n",
            "     | > loss_mel: 117.94348  (117.94348)\n",
            "     | > loss_duration: 2.46280  (2.46280)\n",
            "     | > loss_1: 304.38440  (304.38440)\n",
            "     | > grad_norm_1: 1747.28723  (1747.28723)\n",
            "     | > current_lr_0: 0.00020 \n",
            "     | > current_lr_1: 0.00020 \n",
            "     | > step_time: 110.78230  (110.78228)\n",
            "     | > loader_time: 9.57370  (9.57368)\n",
            "\n"
          ]
        },
        {
          "output_type": "stream",
          "name": "stdout",
          "text": [
            "['<BLNK>', 's', '<BLNK>', ' ', '<BLNK>', 'f', '<BLNK>', 'a', '<BLNK>', 'r', '<BLNK>', 'a', '<BLNK>', 'o', '<BLNK>', ' ', '<BLNK>', 'f', '<BLNK>', 'r', '<BLNK>', ' ', '<BLNK>', 'm', '<BLNK>', 'o', '<BLNK>', ' ', '<BLNK>', 'n', '<BLNK>', 'a', '<BLNK>', ' ', '<BLNK>', 'b', '<BLNK>', 'i', '<BLNK>', 's', '<BLNK>', 'a', '<BLNK>', ' ', '<BLNK>', 'm', '<BLNK>', 'o', '<BLNK>', ' ', '<BLNK>', 's', '<BLNK>', ' ', '<BLNK>', '‘', '<BLNK>', 'a', '<BLNK>', 'd', '<BLNK>', 'w', '<BLNK>', 'u', '<BLNK>', 'm', '<BLNK>', 'a', '<BLNK>', ' ', '<BLNK>', 'b', '<BLNK>', ' ', '<BLNK>', 'n', '<BLNK>', ' ', '<BLNK>', 'n', '<BLNK>', 'a', '<BLNK>', ' ', '<BLNK>', 'm', '<BLNK>', 'o', '<BLNK>', 'y', '<BLNK>', ' ', '<BLNK>', 'a', '<BLNK>', ' ', '<BLNK>', '’', '<BLNK>', '.', '<BLNK>']\n",
            " [!] Character '‘' not found in the vocabulary. Discarding it.\n",
            "['<BLNK>', 's', '<BLNK>', ' ', '<BLNK>', 'f', '<BLNK>', 'a', '<BLNK>', 'r', '<BLNK>', 'a', '<BLNK>', 'o', '<BLNK>', ' ', '<BLNK>', 'f', '<BLNK>', 'r', '<BLNK>', ' ', '<BLNK>', 'm', '<BLNK>', 'o', '<BLNK>', ' ', '<BLNK>', 'n', '<BLNK>', 'a', '<BLNK>', ' ', '<BLNK>', 'b', '<BLNK>', 'i', '<BLNK>', 's', '<BLNK>', 'a', '<BLNK>', ' ', '<BLNK>', 'm', '<BLNK>', 'o', '<BLNK>', ' ', '<BLNK>', 's', '<BLNK>', ' ', '<BLNK>', '‘', '<BLNK>', 'a', '<BLNK>', 'd', '<BLNK>', 'w', '<BLNK>', 'u', '<BLNK>', 'm', '<BLNK>', 'a', '<BLNK>', ' ', '<BLNK>', 'b', '<BLNK>', ' ', '<BLNK>', 'n', '<BLNK>', ' ', '<BLNK>', 'n', '<BLNK>', 'a', '<BLNK>', ' ', '<BLNK>', 'm', '<BLNK>', 'o', '<BLNK>', 'y', '<BLNK>', ' ', '<BLNK>', 'a', '<BLNK>', ' ', '<BLNK>', '’', '<BLNK>', '.', '<BLNK>']\n",
            " [!] Character '’' not found in the vocabulary. Discarding it.\n",
            "['<BLNK>', 'n', '<BLNK>', 'n', '<BLNK>', 'a', '<BLNK>', ' ', '<BLNK>', 'y', '<BLNK>', ' ', '<BLNK>', 'n', '<BLNK>', ' ', '<BLNK>', 'a', '<BLNK>', 'g', '<BLNK>', 'y', '<BLNK>', 'a', '<BLNK>', ' ', '<BLNK>', 'k', '<BLNK>', 'a', '<BLNK>', 'a', '<BLNK>', ' ', '<BLNK>', 's', '<BLNK>', ' ', '<BLNK>', '‘', '<BLNK>', 'm', '<BLNK>', 'o', '<BLNK>', 'n', '<BLNK>', 's', '<BLNK>', 'a', '<BLNK>', 'n', '<BLNK>', 'e', '<BLNK>', ' ', '<BLNK>', 'n', '<BLNK>', 'k', '<BLNK>', ' ', '<BLNK>', 'b', '<BLNK>', 'i', '<BLNK>', 'o', '<BLNK>', ' ', '<BLNK>', 'n', '<BLNK>', 'k', '<BLNK>', ' ', '<BLNK>', 't', '<BLNK>', ' ', '<BLNK>', 'a', '<BLNK>', 'd', '<BLNK>', 'u', '<BLNK>', 'a', '<BLNK>', 'n', '<BLNK>', 'e', '<BLNK>', ' ', '<BLNK>', 'k', '<BLNK>', 'a', '<BLNK>', 'k', '<BLNK>', 'r', '<BLNK>', 'a', '<BLNK>', ' ', '<BLNK>', 'm', '<BLNK>', 'm', '<BLNK>', 'r', '<BLNK>', 'a', '<BLNK>', ' ', '<BLNK>', '’', '<BLNK>', '.', '<BLNK>']\n",
            " [!] Character '‘' not found in the vocabulary. Discarding it.\n",
            "['<BLNK>', 'n', '<BLNK>', 'n', '<BLNK>', 'a', '<BLNK>', ' ', '<BLNK>', 'y', '<BLNK>', ' ', '<BLNK>', 'n', '<BLNK>', ' ', '<BLNK>', 'a', '<BLNK>', 'g', '<BLNK>', 'y', '<BLNK>', 'a', '<BLNK>', ' ', '<BLNK>', 'k', '<BLNK>', 'a', '<BLNK>', 'a', '<BLNK>', ' ', '<BLNK>', 's', '<BLNK>', ' ', '<BLNK>', '‘', '<BLNK>', 'm', '<BLNK>', 'o', '<BLNK>', 'n', '<BLNK>', 's', '<BLNK>', 'a', '<BLNK>', 'n', '<BLNK>', 'e', '<BLNK>', ' ', '<BLNK>', 'n', '<BLNK>', 'k', '<BLNK>', ' ', '<BLNK>', 'b', '<BLNK>', 'i', '<BLNK>', 'o', '<BLNK>', ' ', '<BLNK>', 'n', '<BLNK>', 'k', '<BLNK>', ' ', '<BLNK>', 't', '<BLNK>', ' ', '<BLNK>', 'a', '<BLNK>', 'd', '<BLNK>', 'u', '<BLNK>', 'a', '<BLNK>', 'n', '<BLNK>', 'e', '<BLNK>', ' ', '<BLNK>', 'k', '<BLNK>', 'a', '<BLNK>', 'k', '<BLNK>', 'r', '<BLNK>', 'a', '<BLNK>', ' ', '<BLNK>', 'm', '<BLNK>', 'm', '<BLNK>', 'r', '<BLNK>', 'a', '<BLNK>', ' ', '<BLNK>', '’', '<BLNK>', '.', '<BLNK>']\n",
            " [!] Character '’' not found in the vocabulary. Discarding it.\n"
          ]
        },
        {
          "output_type": "stream",
          "name": "stderr",
          "text": [
            "\n",
            " > CHECKPOINT : /content/drive/MyDrive/tts_train_dir/vits_ljspeech-April-21-2023_03+32PM-0000000/checkpoint_2.pth\n",
            "\n",
            " > CHECKPOINT : /content/drive/MyDrive/tts_train_dir/vits_ljspeech-April-21-2023_03+32PM-0000000/checkpoint_4.pth\n"
          ]
        }
      ]
    },
    {
      "cell_type": "code",
      "source": [
        "!pip install tensorboard"
      ],
      "metadata": {
        "id": "G2kZnha5cFfi"
      },
      "execution_count": null,
      "outputs": []
    },
    {
      "cell_type": "code",
      "source": [
        "import glob, os\n",
        "output_path = \"/content/drive/MyDrive/tts_train_dir\"\n",
        "ckpts = sorted([f for f in glob.glob(output_path+\"/*/*.pth\")])\n",
        "configs = sorted([f for f in glob.glob(output_path+\"/*/*.json\")])"
      ],
      "metadata": {
        "id": "PWfiS-EicFcd"
      },
      "execution_count": null,
      "outputs": []
    },
    {
      "cell_type": "code",
      "source": [
        "print(configs)\n",
        "print(ckpts)"
      ],
      "metadata": {
        "id": "SN4qopNRcFTe",
        "colab": {
          "base_uri": "https://localhost:8080/"
        },
        "outputId": "5ea04e77-be29-4dd4-8763-98ec1ae3f693"
      },
      "execution_count": null,
      "outputs": [
        {
          "output_type": "stream",
          "name": "stdout",
          "text": [
            "['/content/drive/MyDrive/tts_train_dir/vits_ljspeech-April-21-2023_03+32PM-0000000/config.json']\n",
            "['/content/drive/MyDrive/tts_train_dir/vits_ljspeech-April-21-2023_03+32PM-0000000/checkpoint_2.pth', '/content/drive/MyDrive/tts_train_dir/vits_ljspeech-April-21-2023_03+32PM-0000000/checkpoint_4.pth']\n"
          ]
        }
      ]
    },
    {
      "cell_type": "code",
      "source": [],
      "metadata": {
        "id": "EaAzxQ4sg0o7"
      },
      "execution_count": null,
      "outputs": []
    },
    {
      "cell_type": "markdown",
      "source": [
        "Testing \n"
      ],
      "metadata": {
        "id": "h8FrxnxlHcHU"
      }
    },
    {
      "cell_type": "code",
      "source": [
        "from google.colab import drive\n",
        "drive.mount('/content/drive')"
      ],
      "metadata": {
        "colab": {
          "base_uri": "https://localhost:8080/"
        },
        "id": "0HUFem2_iA8p",
        "outputId": "c64d6567-e201-4782-81e0-8bceb406fa73"
      },
      "execution_count": 1,
      "outputs": [
        {
          "output_type": "stream",
          "name": "stdout",
          "text": [
            "Mounted at /content/drive\n"
          ]
        }
      ]
    },
    {
      "cell_type": "code",
      "source": [
        "!pwd"
      ],
      "metadata": {
        "colab": {
          "base_uri": "https://localhost:8080/"
        },
        "id": "vb0hrzbTH1tp",
        "outputId": "907fe22b-8d57-4cae-ed1f-f0ac58be8d0e"
      },
      "execution_count": 2,
      "outputs": [
        {
          "output_type": "stream",
          "name": "stdout",
          "text": [
            "/content\n"
          ]
        }
      ]
    },
    {
      "cell_type": "code",
      "source": [
        "from TTS.utils.manage import ModelManager\n",
        "from TTS.utils.synthesizer import Synthesizer\n",
        "\n",
        "print(\"-----starting..\")\n",
        "\n",
        "model_path = \"/content/drive/MyDrive/tts_train_dir/vits_ljspeech-April-21-2023_03+32PM-0000000/checkpointC.pth\"\n",
        "config_path = \"/content/drive/MyDrive/tts_train_dir/vits_ljspeech-April-21-2023_03+32PM-0000000/config.json\"\n"
      ],
      "metadata": {
        "colab": {
          "base_uri": "https://localhost:8080/"
        },
        "id": "hk25V7teKDIv",
        "outputId": "149b192f-8486-42ae-cf00-4a16170919eb"
      },
      "execution_count": 7,
      "outputs": [
        {
          "output_type": "stream",
          "name": "stdout",
          "text": [
            "-----starting..\n"
          ]
        }
      ]
    },
    {
      "cell_type": "code",
      "source": [
        "%cd /content/drive/MyDrive/tts_train_dir"
      ],
      "metadata": {
        "colab": {
          "base_uri": "https://localhost:8080/"
        },
        "id": "2XIKstb3IDGE",
        "outputId": "3313f3ad-1bdf-4465-c599-cb1ecbf64353"
      },
      "execution_count": 3,
      "outputs": [
        {
          "output_type": "stream",
          "name": "stdout",
          "text": [
            "/content/drive/MyDrive/tts_train_dir\n"
          ]
        }
      ]
    },
    {
      "cell_type": "code",
      "source": [
        "\n",
        "syn = Synthesizer(\n",
        "    tts_checkpoint=model_path,\n",
        "    tts_config_path=config_path\n",
        ")\n",
        "\n"
      ],
      "metadata": {
        "colab": {
          "base_uri": "https://localhost:8080/"
        },
        "id": "Q8VSIBIJIGYk",
        "outputId": "116d20e4-d9f3-4e81-9238-5134a3f72fd5"
      },
      "execution_count": 8,
      "outputs": [
        {
          "output_type": "stream",
          "name": "stdout",
          "text": [
            " > Using model: vits\n",
            " > Setting up Audio Processor...\n",
            " | > sample_rate:22050\n",
            " | > resample:False\n",
            " | > num_mels:80\n",
            " | > log_func:np.log10\n",
            " | > min_level_db:0\n",
            " | > frame_shift_ms:None\n",
            " | > frame_length_ms:None\n",
            " | > ref_level_db:None\n",
            " | > fft_size:1024\n",
            " | > power:None\n",
            " | > preemphasis:0.0\n",
            " | > griffin_lim_iters:None\n",
            " | > signal_norm:None\n",
            " | > symmetric_norm:None\n",
            " | > mel_fmin:0\n",
            " | > mel_fmax:None\n",
            " | > pitch_fmin:None\n",
            " | > pitch_fmax:None\n",
            " | > spec_gain:20.0\n",
            " | > stft_pad_mode:reflect\n",
            " | > max_norm:1.0\n",
            " | > clip_norm:True\n",
            " | > do_trim_silence:False\n",
            " | > trim_db:60\n",
            " | > do_sound_norm:False\n",
            " | > do_amp_to_db_linear:True\n",
            " | > do_amp_to_db_mel:True\n",
            " | > do_rms_norm:False\n",
            " | > db_level:None\n",
            " | > stats_path:None\n",
            " | > base:10\n",
            " | > hop_length:256\n",
            " | > win_length:1024\n"
          ]
        }
      ]
    },
    {
      "cell_type": "code",
      "source": [
        "\n",
        "text = input(\"Enter Twi text:\")\n"
      ],
      "metadata": {
        "colab": {
          "base_uri": "https://localhost:8080/"
        },
        "id": "AAXiBYbEKO3t",
        "outputId": "789fd452-bdc4-41ef-ea80-80c061419c11"
      },
      "execution_count": 10,
      "outputs": [
        {
          "name": "stdout",
          "output_type": "stream",
          "text": [
            "Enter Twi text:Ɔkyena merekɔ sukuu\n"
          ]
        }
      ]
    },
    {
      "cell_type": "code",
      "source": [
        "%pwd"
      ],
      "metadata": {
        "colab": {
          "base_uri": "https://localhost:8080/",
          "height": 35
        },
        "id": "Q9cZay_1KmgO",
        "outputId": "29a88c09-2dc0-4e14-d9ed-c4c97f0c9a09"
      },
      "execution_count": 11,
      "outputs": [
        {
          "output_type": "execute_result",
          "data": {
            "text/plain": [
              "'/content'"
            ],
            "application/vnd.google.colaboratory.intrinsic+json": {
              "type": "string"
            }
          },
          "metadata": {},
          "execution_count": 11
        }
      ]
    },
    {
      "cell_type": "code",
      "source": [
        "%cd /content/drive/MyDrive/tts_train_dir"
      ],
      "metadata": {
        "colab": {
          "base_uri": "https://localhost:8080/"
        },
        "id": "RUYbsLdjKsgk",
        "outputId": "1544e5c6-ec84-42d9-dbda-c675b23c9e30"
      },
      "execution_count": 12,
      "outputs": [
        {
          "output_type": "stream",
          "name": "stdout",
          "text": [
            "/content/drive/MyDrive/tts_train_dir\n"
          ]
        }
      ]
    },
    {
      "cell_type": "code",
      "source": [
        "\n",
        "outputs = syn.tts(text)\n",
        "\n",
        "syn.save_wav(outputs, \"text1.wav\")"
      ],
      "metadata": {
        "colab": {
          "base_uri": "https://localhost:8080/"
        },
        "id": "ZgAclKfrKOfn",
        "outputId": "1a3262fc-2fb2-49e9-8868-2ecc08cd4b28"
      },
      "execution_count": 13,
      "outputs": [
        {
          "output_type": "stream",
          "name": "stdout",
          "text": [
            " > Text splitted to sentences.\n",
            "['Ɔkyena merekɔ sukuu']\n",
            " > Processing time: 1.669546127319336\n",
            " > Real-time factor: 0.7116743757228456\n"
          ]
        }
      ]
    },
    {
      "cell_type": "code",
      "source": [
        "import IPython\n",
        "IPython.display.Audio(\"/content/drive/MyDrive/tts_train_dir/text1.wav\")"
      ],
      "metadata": {
        "colab": {
          "base_uri": "https://localhost:8080/",
          "height": 75
        },
        "id": "w4QfLypEg0Y0",
        "outputId": "a1df49f8-3d33-4773-f485-fadb973fe565"
      },
      "execution_count": 14,
      "outputs": [
        {
          "output_type": "execute_result",
          "data": {
            "text/plain": [
              "<IPython.lib.display.Audio object>"
            ],
            "text/html": [
              "\n",
              "                <audio  controls=\"controls\" >\n",
              "                    <source src=\"data:audio/x-wav;base64,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\" type=\"audio/x-wav\" />\n",
              "                    Your browser does not support the audio element.\n",
              "                </audio>\n",
              "              "
            ]
          },
          "metadata": {},
          "execution_count": 14
        }
      ]
    },
    {
      "cell_type": "code",
      "source": [],
      "metadata": {
        "id": "fcF7yIWmg0Vk"
      },
      "execution_count": null,
      "outputs": []
    }
  ]
}